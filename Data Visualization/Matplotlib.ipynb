{
 "cells": [
  {
   "cell_type": "markdown",
   "id": "b798b189-9fda-4c1a-8cb6-d299afa9da23",
   "metadata": {},
   "source": [
    "# Matplotlib"
   ]
  },
  {
   "cell_type": "markdown",
   "id": "e8f374aa-450e-4e12-8d71-04202a116c75",
   "metadata": {},
   "source": [
    "Matplotlib is the most common library for visualizing data\n",
    "\n",
    "Advantage\n",
    "* Easy to see the property of the data\n",
    "* Can plot anything\n",
    "\n",
    "Disadvantage\n",
    "* It may be complex to plot non-basic plots or adjust the plots to look nice."
   ]
  },
  {
   "cell_type": "markdown",
   "id": "03c8fcb1-35cb-4f94-9317-e5a4cd492668",
   "metadata": {},
   "source": [
    "## Introduction\n",
    "* Python 2D plotting library. 3D plotting can be plotted by importing the mplot3d library\n",
    "* Includes multiple modules - matplotlib.pyplot, pylab, Object level APIs(Matplotlib APIs)\n",
    "* Hierarchy : Figure-Axes-Axis-Ticks\n",
    "\n",
    "\n",
    "* Installing matplotlib\n",
    "    * pip install matplotlib"
   ]
  },
  {
   "cell_type": "code",
   "execution_count": 1,
   "id": "b591cbb1-4b55-4556-b933-a49977dd0bca",
   "metadata": {
    "collapsed": true,
    "jupyter": {
     "outputs_hidden": true
    },
    "tags": []
   },
   "outputs": [],
   "source": [
    "import matplotlib\n",
    "import matplotlib.pyplot as plt"
   ]
  },
  {
   "cell_type": "code",
   "execution_count": 2,
   "id": "04eefdca-9767-48e2-ab6c-b3496b1aa9cf",
   "metadata": {
    "collapsed": true,
    "jupyter": {
     "outputs_hidden": true
    },
    "tags": []
   },
   "outputs": [
    {
     "data": {
      "text/plain": [
       "True"
      ]
     },
     "execution_count": 2,
     "metadata": {},
     "output_type": "execute_result"
    }
   ],
   "source": [
    "matplotlib.is_interactive()"
   ]
  },
  {
   "cell_type": "code",
   "execution_count": 3,
   "id": "c0b93e95-1b4e-4dfa-8661-6685d1bd4d8a",
   "metadata": {
    "collapsed": true,
    "jupyter": {
     "outputs_hidden": true
    },
    "tags": []
   },
   "outputs": [
    {
     "data": {
      "text/plain": [
       "False"
      ]
     },
     "execution_count": 3,
     "metadata": {},
     "output_type": "execute_result"
    }
   ],
   "source": [
    "#Right now  matplotlib is interactive. To make it non interactive use the command below\n",
    "\n",
    "matplotlib.interactive(False)\n",
    "matplotlib.is_interactive()"
   ]
  },
  {
   "cell_type": "markdown",
   "id": "a809d31f-a4a8-4680-88d0-fbd7e1bc26db",
   "metadata": {},
   "source": [
    "## 1. Plot\n",
    "Let's plot a list of values as x and y axis. a is taken as x-axis and b is taken as y-axis"
   ]
  },
  {
   "cell_type": "code",
   "execution_count": 4,
   "id": "d3771804-5f47-46e2-8285-5f840314292c",
   "metadata": {
    "collapsed": true,
    "jupyter": {
     "outputs_hidden": true
    },
    "tags": []
   },
   "outputs": [
    {
     "name": "stdout",
     "output_type": "stream",
     "text": [
      "<class 'list'>\n",
      "<class 'list'>\n"
     ]
    }
   ],
   "source": [
    "a = [1,2,3,4]\n",
    "print(type(a))\n",
    "b = [2,4,6,8]\n",
    "print(type(b))"
   ]
  },
  {
   "cell_type": "code",
   "execution_count": 5,
   "id": "755349e2-4eeb-4c5d-a7fa-621a88b4b19c",
   "metadata": {
    "collapsed": true,
    "jupyter": {
     "outputs_hidden": true
    },
    "tags": []
   },
   "outputs": [
    {
     "data": {
      "text/plain": [
       "[<matplotlib.lines.Line2D at 0x7fd6568f6ad0>]"
      ]
     },
     "execution_count": 5,
     "metadata": {},
     "output_type": "execute_result"
    }
   ],
   "source": [
    "plt.plot(a,b)"
   ]
  },
  {
   "cell_type": "code",
   "execution_count": 6,
   "id": "d65f5405-b901-4470-9bd7-d5637a2b4ebb",
   "metadata": {
    "collapsed": true,
    "jupyter": {
     "outputs_hidden": true
    },
    "tags": []
   },
   "outputs": [
    {
     "data": {
      "text/plain": [
       "[<matplotlib.lines.Line2D at 0x7fd65488c590>]"
      ]
     },
     "execution_count": 6,
     "metadata": {},
     "output_type": "execute_result"
    }
   ],
   "source": [
    "# Passing only one value to the plot takes it as y value and index as x value\n",
    "plt.plot(a)"
   ]
  },
  {
   "cell_type": "markdown",
   "id": "3a14bd64-c9da-43de-9e39-363ed098831b",
   "metadata": {},
   "source": [
    "### 1.1 Changing the color of line."
   ]
  },
  {
   "cell_type": "code",
   "execution_count": 7,
   "id": "f2b55a41-e043-4445-b00f-d65724133466",
   "metadata": {
    "collapsed": true,
    "jupyter": {
     "outputs_hidden": true
    },
    "tags": []
   },
   "outputs": [
    {
     "data": {
      "text/plain": [
       "[<matplotlib.lines.Line2D at 0x7fd65488c910>]"
      ]
     },
     "execution_count": 7,
     "metadata": {},
     "output_type": "execute_result"
    }
   ],
   "source": [
    "plt.plot(a,b,c='red')"
   ]
  },
  {
   "cell_type": "markdown",
   "id": "49a8b863-a5c3-49d3-9571-0caaadb30f67",
   "metadata": {},
   "source": [
    "### 1.2 Adding labels on x and y column"
   ]
  },
  {
   "cell_type": "code",
   "execution_count": 8,
   "id": "577fbf33-e450-4359-a0f5-ee96bf70f8d3",
   "metadata": {
    "collapsed": true,
    "jupyter": {
     "outputs_hidden": true
    },
    "tags": []
   },
   "outputs": [
    {
     "data": {
      "text/plain": [
       "Text(0, 0.5, 'Y label')"
      ]
     },
     "execution_count": 8,
     "metadata": {},
     "output_type": "execute_result"
    }
   ],
   "source": [
    "plt.plot(a,b,c='blue')\n",
    "plt.xlabel('X label',fontsize =15, c ='red')\n",
    "plt.ylabel('Y label',fontsize =15, c ='Blue')"
   ]
  },
  {
   "cell_type": "markdown",
   "id": "8475850c-3cf2-4620-8fca-39b2b1d6e596",
   "metadata": {},
   "source": [
    "### 1.3 Ticks"
   ]
  },
  {
   "cell_type": "code",
   "execution_count": 9,
   "id": "462dcd81-3a15-4569-9ef3-816ddd1f8f77",
   "metadata": {
    "collapsed": true,
    "jupyter": {
     "outputs_hidden": true
    },
    "tags": []
   },
   "outputs": [],
   "source": [
    "plt.plot(a,b,c='blue')\n",
    "plt.xlabel('X label',fontsize =15, c ='red')\n",
    "plt.ylabel('Y label',fontsize =15, c ='Blue')\n",
    "plt.tick_params(axis='x',color='red',labelsize='large',labelcolor='blue')\n",
    "plt.tick_params(axis='y',color='red',labelsize='large',labelcolor='red')"
   ]
  },
  {
   "cell_type": "markdown",
   "id": "d992e799-9a15-453e-943f-b85a527a874d",
   "metadata": {},
   "source": [
    "### 1.4 Labelling the graph"
   ]
  },
  {
   "cell_type": "code",
   "execution_count": 10,
   "id": "a3a29277-3458-4dfc-80fc-03df48dd09d5",
   "metadata": {
    "collapsed": true,
    "jupyter": {
     "outputs_hidden": true
    },
    "tags": []
   },
   "outputs": [],
   "source": [
    "plt.plot(a,b,c='blue',label='Line 1')\n",
    "plt.legend()\n",
    "plt.xlabel('X label',fontsize =15, c ='red')\n",
    "plt.ylabel('Y label',fontsize =15, c ='Blue')\n",
    "plt.tick_params(axis='x',color='red',labelsize='large',labelcolor='blue')\n",
    "plt.tick_params(axis='y',color='red',labelsize='large',labelcolor='red')"
   ]
  },
  {
   "cell_type": "markdown",
   "id": "409b5857-d833-47f8-bdc0-c630d39472dc",
   "metadata": {},
   "source": [
    "### 1.5 Adding Title"
   ]
  },
  {
   "cell_type": "code",
   "execution_count": 11,
   "id": "c5aa820d-3794-40cc-8c06-7b07a917ae29",
   "metadata": {
    "collapsed": true,
    "jupyter": {
     "outputs_hidden": true
    },
    "tags": []
   },
   "outputs": [],
   "source": [
    "plt.title(\"This is our first Graph\", {'fontsize':20,'color':'green'})\n",
    "plt.plot(a,b,c='blue',label='Line')\n",
    "plt.legend()\n",
    "plt.xlabel('X label',fontsize =15, c ='red')\n",
    "plt.ylabel('Y label',fontsize =15, c ='Blue')\n",
    "plt.tick_params(axis='x',color='red',labelsize='large',labelcolor='blue')\n",
    "plt.tick_params(axis='y',color='red',labelsize='large',labelcolor='red')"
   ]
  },
  {
   "cell_type": "markdown",
   "id": "8ddf8913-8a47-4805-9794-476dcb4e70f3",
   "metadata": {},
   "source": [
    "### 1.6 Limiting x and y axis"
   ]
  },
  {
   "cell_type": "code",
   "execution_count": 12,
   "id": "1d6f86c1-2bf4-488f-b639-ceaf4881c7cc",
   "metadata": {
    "collapsed": true,
    "jupyter": {
     "outputs_hidden": true
    },
    "tags": []
   },
   "outputs": [
    {
     "data": {
      "text/plain": [
       "(2.0, 4.0)"
      ]
     },
     "execution_count": 12,
     "metadata": {},
     "output_type": "execute_result"
    }
   ],
   "source": [
    "# Limiting the x and y axis allows to start the x and y label to start and end at the given limits.\n",
    "# Here, we can see the x limit starts at 1 and ends at 3 and y limit starts at 2 and ends at 4\n",
    "\n",
    "plt.plot(a,b,c='blue',label='Line')\n",
    "plt.xlim(1,3)\n",
    "plt.ylim(2,4)"
   ]
  },
  {
   "cell_type": "markdown",
   "id": "4ec0974e-df43-43d7-9653-8ea854828247",
   "metadata": {},
   "source": [
    "We can take the mirror of the image using the xlim and ylim function"
   ]
  },
  {
   "cell_type": "code",
   "execution_count": 13,
   "id": "a2a96fec-a753-4a7a-be28-615de4797284",
   "metadata": {
    "collapsed": true,
    "jupyter": {
     "outputs_hidden": true
    },
    "tags": []
   },
   "outputs": [
    {
     "data": {
      "text/plain": [
       "(4.0, 2.0)"
      ]
     },
     "execution_count": 13,
     "metadata": {},
     "output_type": "execute_result"
    }
   ],
   "source": [
    "plt.plot(a,b,c='blue',label='Line')\n",
    "plt.xlim(3,1)\n",
    "plt.ylim(4,2)"
   ]
  },
  {
   "cell_type": "markdown",
   "id": "b3e206c4-0c95-4190-a082-d213034223bf",
   "metadata": {},
   "source": [
    "### 1.7 Adding multiple graphs"
   ]
  },
  {
   "cell_type": "code",
   "execution_count": 14,
   "id": "a5ed1bc4-9894-4666-bed6-da6d3a3d7be7",
   "metadata": {
    "collapsed": true,
    "jupyter": {
     "outputs_hidden": true
    },
    "tags": []
   },
   "outputs": [
    {
     "data": {
      "text/plain": [
       "<matplotlib.legend.Legend at 0x7fd656b94710>"
      ]
     },
     "execution_count": 14,
     "metadata": {},
     "output_type": "execute_result"
    }
   ],
   "source": [
    "import numpy as np \n",
    "x =[2,4,6,8]\n",
    "y = np.sqrt(x)\n",
    "plt.plot(x,y,c='blue',label='Line 1')\n",
    "plt.plot(a,b,c='red',label='Line 2')\n",
    "plt.legend()"
   ]
  },
  {
   "cell_type": "markdown",
   "id": "1bb9faab-9d09-4c08-809c-3383f48ec898",
   "metadata": {},
   "source": [
    "### 1.8 Styling the graph Lines"
   ]
  },
  {
   "cell_type": "markdown",
   "id": "9c2d25df-58d0-4268-837e-e84725847c23",
   "metadata": {},
   "source": [
    "#### Changing the structure of lines"
   ]
  },
  {
   "cell_type": "code",
   "execution_count": 15,
   "id": "fabc889b-7ccb-4444-829f-1046b6e0b57c",
   "metadata": {
    "collapsed": true,
    "jupyter": {
     "outputs_hidden": true
    },
    "tags": []
   },
   "outputs": [
    {
     "data": {
      "text/plain": [
       "<matplotlib.legend.Legend at 0x7fd6568e6b90>"
      ]
     },
     "execution_count": 15,
     "metadata": {},
     "output_type": "execute_result"
    }
   ],
   "source": [
    "x =[2,4,6,8]\n",
    "y = np.sqrt(x)\n",
    "plt.plot(x,y,c='blue',label='Line 1', linestyle=\":\")\n",
    "plt.plot(a,b,c='red',label='Line 2',linestyle=\"--\",linewidth=3)\n",
    "plt.legend()"
   ]
  },
  {
   "cell_type": "markdown",
   "id": "8ec8f4a8-41fe-4637-9345-5ed3adff5663",
   "metadata": {},
   "source": [
    "#### Adding markers to the line\n",
    "\n",
    "Markers help to pinpoint the points of the graph"
   ]
  },
  {
   "cell_type": "code",
   "execution_count": 16,
   "id": "9ed89124-4f7b-4262-9f2d-fe4e1e4419f6",
   "metadata": {
    "collapsed": true,
    "jupyter": {
     "outputs_hidden": true
    },
    "tags": []
   },
   "outputs": [
    {
     "data": {
      "text/plain": [
       "<matplotlib.legend.Legend at 0x7fd656c80110>"
      ]
     },
     "execution_count": 16,
     "metadata": {},
     "output_type": "execute_result"
    }
   ],
   "source": [
    "x =[2,4,6,8]\n",
    "y = np.sqrt(x)\n",
    "plt.plot(x,y,c='blue',label='Line 1', linestyle=\":\", marker='o')\n",
    "plt.plot(a,b,c='red',label='Line 2',linestyle=\"--\",linewidth=5, marker='d', markersize=10)\n",
    "plt.legend()"
   ]
  },
  {
   "cell_type": "markdown",
   "id": "971bf61a-35f5-4978-a80a-7df91c5a73f2",
   "metadata": {},
   "source": [
    "## 2. Figure\n",
    "\n",
    "Figure is a area where plots are drawn"
   ]
  },
  {
   "cell_type": "markdown",
   "id": "a595d4d4-c996-4597-9a35-344792431e4f",
   "metadata": {},
   "source": [
    "### 2.1 Adding axes to figure"
   ]
  },
  {
   "cell_type": "code",
   "execution_count": 17,
   "id": "1041344f-67a5-4741-ad0b-cbd9b585e285",
   "metadata": {
    "collapsed": true,
    "jupyter": {
     "outputs_hidden": true
    },
    "tags": []
   },
   "outputs": [],
   "source": [
    "\n",
    "fig = plt.figure()\n",
    "ax_1 = fig.add_axes([0,0,1,1]) # left axis, bottom axis, width of  axis, height of axis of axes 1\n",
    "ax_2 = fig.add_axes([1.5,0,1,1])# left axis, bottom axis, width of  axis, height of axis of axes 2"
   ]
  },
  {
   "cell_type": "markdown",
   "id": "7604e2e4-9ea7-4bfa-9171-03871e5d95ec",
   "metadata": {},
   "source": [
    "#### 2.1.1 Plotting graph on axes"
   ]
  },
  {
   "cell_type": "code",
   "execution_count": 18,
   "id": "3fc0aaa0-f833-460b-8d7c-defe53f866f8",
   "metadata": {
    "collapsed": true,
    "jupyter": {
     "outputs_hidden": true
    },
    "tags": []
   },
   "outputs": [
    {
     "data": {
      "text/plain": [
       "[<matplotlib.lines.Line2D at 0x7fd6546eb810>]"
      ]
     },
     "execution_count": 18,
     "metadata": {},
     "output_type": "execute_result"
    }
   ],
   "source": [
    "x =[2,4,6,8]\n",
    "y = np.sqrt(x)\n",
    "fig = plt.figure()\n",
    "ax_1 = fig.add_axes([0,0,1,1])\n",
    "ax_2 = fig.add_axes([1.5,0,1,1])\n",
    "ax_1.plot(x,y,c='blue',label='Line 1', linestyle=\":\", marker='o')\n",
    "ax_2.plot(a,b,c='red',label='Line 2',linestyle=\"--\",linewidth=5, marker='d', markersize=10)\n"
   ]
  },
  {
   "cell_type": "markdown",
   "id": "e786c8e6-5336-4f48-be2f-c0d071f66080",
   "metadata": {},
   "source": [
    "#### 2.1.2 Setting x and y label on axes"
   ]
  },
  {
   "cell_type": "code",
   "execution_count": 19,
   "id": "25b493f6-7dec-4d72-9b52-fd18239aefc4",
   "metadata": {
    "collapsed": true,
    "jupyter": {
     "outputs_hidden": true
    },
    "tags": []
   },
   "outputs": [
    {
     "data": {
      "text/plain": [
       "Text(0, 0.5, 'Y label')"
      ]
     },
     "execution_count": 19,
     "metadata": {},
     "output_type": "execute_result"
    }
   ],
   "source": [
    "x =[2,4,6,8]\n",
    "y = np.sqrt(x)\n",
    "fig = plt.figure()\n",
    "ax_1 = fig.add_axes([0,0,1,1])\n",
    "ax_2 = fig.add_axes([1.5,0,1,1])\n",
    "ax_1.plot(x,y,c='blue',label='Line 1', linestyle=\":\", marker='o')\n",
    "ax_2.plot(a,b,c='red',label='Line 2',linestyle=\"--\",linewidth=5, marker='d', markersize=10)\n",
    "ax_1.set_xlabel('X label',fontsize =15, c ='red')\n",
    "ax_1.set_ylabel('Y label',fontsize =15, c ='Blue')\n",
    "ax_2.set_xlabel('X label',fontsize =15, c ='red')\n",
    "ax_2.set_ylabel('Y label',fontsize =15, c ='Blue')"
   ]
  },
  {
   "cell_type": "markdown",
   "id": "1bc88217-1ca8-4fd0-9ffd-1ba0271e357b",
   "metadata": {},
   "source": [
    "### 2.2 Adding subplot to figure"
   ]
  },
  {
   "cell_type": "code",
   "execution_count": 20,
   "id": "b76a4065-93f6-4a73-9313-32799e35297c",
   "metadata": {
    "collapsed": true,
    "jupyter": {
     "outputs_hidden": true
    },
    "tags": []
   },
   "outputs": [],
   "source": [
    "fig = plt.figure()\n",
    "ax_1 = fig.add_subplot(321) # 3 by 2 grid at position1\n"
   ]
  },
  {
   "cell_type": "code",
   "execution_count": 21,
   "id": "f1c348d2-c4bc-4dc9-b849-c7c2d2f75b32",
   "metadata": {
    "collapsed": true,
    "jupyter": {
     "outputs_hidden": true
    },
    "tags": []
   },
   "outputs": [],
   "source": [
    "fig = plt.figure(figsize=(8,8))\n",
    "\n",
    "ax_1 = fig.add_subplot(321)\n",
    "ax_2 = fig.add_subplot(322)\n",
    "ax_3 = fig.add_subplot(323)\n",
    "ax_4 = fig.add_subplot(324)\n",
    "ax_5 = fig.add_subplot(325)\n",
    "ax_6 = fig.add_subplot(326)\n"
   ]
  },
  {
   "cell_type": "code",
   "execution_count": 22,
   "id": "ce5f052c-a203-4b99-8a57-3cb260038d62",
   "metadata": {
    "collapsed": true,
    "jupyter": {
     "outputs_hidden": true
    },
    "tags": []
   },
   "outputs": [
    {
     "data": {
      "image/png": "[encoded data removed]",
      "text/plain": [
       "<Figure size 576x576 with 6 Axes>"
      ]
     },
     "metadata": {},
     "output_type": "display_data"
    }
   ],
   "source": [
    "from IPython.display import display\n",
    "\n",
    "display(fig)"
   ]
  },
  {
   "cell_type": "code",
   "execution_count": 23,
   "id": "3b20417c-3019-4446-8c3a-e5c4f35672cf",
   "metadata": {
    "collapsed": true,
    "jupyter": {
     "outputs_hidden": true
    },
    "tags": []
   },
   "outputs": [],
   "source": [
    "ax_1.remove()\n"
   ]
  },
  {
   "cell_type": "code",
   "execution_count": 24,
   "id": "0e8d2f2b-3d2b-492e-84db-6b619a3083cf",
   "metadata": {
    "collapsed": true,
    "jupyter": {
     "outputs_hidden": true
    },
    "tags": []
   },
   "outputs": [
    {
     "data": {
      "image/png": "[encoded data removed]",
      "text/plain": [
       "<Figure size 576x576 with 5 Axes>"
      ]
     },
     "metadata": {},
     "output_type": "display_data"
    }
   ],
   "source": [
    "display(fig)"
   ]
  },
  {
   "cell_type": "code",
   "execution_count": 25,
   "id": "c5eddd13-e545-44a5-b846-efbeb89f8e48",
   "metadata": {
    "collapsed": true,
    "jupyter": {
     "outputs_hidden": true
    },
    "tags": []
   },
   "outputs": [],
   "source": [
    "import numpy as np\n",
    "\n",
    "a = [1,2,3,4]\n",
    "b = [2,4,6,8]\n",
    "x =[2,4,6,8]\n",
    "y = np.sqrt(x)"
   ]
  },
  {
   "cell_type": "code",
   "execution_count": 26,
   "id": "3cdeb1fb-1d77-4e23-9724-3340a4fba2ff",
   "metadata": {
    "collapsed": true,
    "jupyter": {
     "outputs_hidden": true
    },
    "tags": []
   },
   "outputs": [
    {
     "data": {
      "image/png": "[encoded data removed]",
      "text/plain": [
       "<Figure size 576x576 with 5 Axes>"
      ]
     },
     "metadata": {},
     "output_type": "display_data"
    }
   ],
   "source": [
    "ax_2.plot(a,b)\n",
    "\n",
    "display(fig)"
   ]
  },
  {
   "cell_type": "code",
   "execution_count": 27,
   "id": "b87094f7-6ed1-4461-a918-ad4037ff5e14",
   "metadata": {
    "collapsed": true,
    "jupyter": {
     "outputs_hidden": true
    },
    "tags": []
   },
   "outputs": [
    {
     "data": {
      "image/png": "[encoded data removed]",
      "text/plain": [
       "<Figure size 576x576 with 5 Axes>"
      ]
     },
     "metadata": {},
     "output_type": "display_data"
    }
   ],
   "source": [
    "ax_3.plot(x,y)\n",
    "display(fig)"
   ]
  },
  {
   "cell_type": "markdown",
   "id": "a7b1d941-14a1-4bfb-a9f9-3649bc54c834",
   "metadata": {},
   "source": [
    "## 3. Box Plots"
   ]
  },
  {
   "cell_type": "code",
   "execution_count": 28,
   "id": "9d3cd57d-096c-4608-83d3-c0c73eb96e4c",
   "metadata": {
    "collapsed": true,
    "jupyter": {
     "outputs_hidden": true
    },
    "tags": []
   },
   "outputs": [
    {
     "data": {
      "text/plain": [
       "array([ 0,  0,  1,  3,  4,  5,  5,  5,  9,  9, 11, 11, 13, 13, 14, 14, 15,\n",
       "       15, 17, 19])"
      ]
     },
     "execution_count": 28,
     "metadata": {},
     "output_type": "execute_result"
    }
   ],
   "source": [
    "import numpy as np\n",
    "import matplotlib.pyplot as plt\n",
    "\n",
    "x = np.random.randint(low =0, high =20, size=20)\n",
    "x.sort()\n",
    "x"
   ]
  },
  {
   "cell_type": "code",
   "execution_count": 29,
   "id": "5ad4feda-2a8e-4632-8c02-1e55b60624f1",
   "metadata": {
    "collapsed": true,
    "jupyter": {
     "outputs_hidden": true
    },
    "tags": []
   },
   "outputs": [
    {
     "data": {
      "text/plain": [
       "{'whiskers': [<matplotlib.lines.Line2D at 0x7fd6543d9ad0>,\n",
       "  <matplotlib.lines.Line2D at 0x7fd6543d9e90>],\n",
       " 'caps': [<matplotlib.lines.Line2D at 0x7fd6543dc310>,\n",
       "  <matplotlib.lines.Line2D at 0x7fd6545e2250>],\n",
       " 'boxes': [<matplotlib.lines.Line2D at 0x7fd6543d9610>],\n",
       " 'medians': [<matplotlib.lines.Line2D at 0x7fd6542a8310>],\n",
       " 'fliers': [<matplotlib.lines.Line2D at 0x7fd6543dc610>],\n",
       " 'means': []}"
      ]
     },
     "execution_count": 29,
     "metadata": {},
     "output_type": "execute_result"
    }
   ],
   "source": [
    "plt.boxplot(x)"
   ]
  },
  {
   "cell_type": "code",
   "execution_count": 30,
   "id": "096b4a79-afc6-4bcb-883a-2d679e0f9d06",
   "metadata": {
    "collapsed": true,
    "jupyter": {
     "outputs_hidden": true
    },
    "tags": []
   },
   "outputs": [
    {
     "data": {
      "text/plain": [
       "{'whiskers': [<matplotlib.lines.Line2D at 0x7fd6543eb4d0>,\n",
       "  <matplotlib.lines.Line2D at 0x7fd6543eb8d0>],\n",
       " 'caps': [<matplotlib.lines.Line2D at 0x7fd6543ebd10>,\n",
       "  <matplotlib.lines.Line2D at 0x7fd6543f5150>],\n",
       " 'boxes': [<matplotlib.lines.Line2D at 0x7fd6543eb150>],\n",
       " 'medians': [<matplotlib.lines.Line2D at 0x7fd6543f5590>],\n",
       " 'fliers': [<matplotlib.lines.Line2D at 0x7fd6542a86d0>],\n",
       " 'means': []}"
      ]
     },
     "execution_count": 30,
     "metadata": {},
     "output_type": "execute_result"
    }
   ],
   "source": [
    "plt.boxplot(x,vert=False)"
   ]
  },
  {
   "cell_type": "code",
   "execution_count": 31,
   "id": "8dd53ac0-12b3-439f-a60e-2b12a6beb9ea",
   "metadata": {
    "collapsed": true,
    "jupyter": {
     "outputs_hidden": true
    },
    "tags": []
   },
   "outputs": [
    {
     "data": {
      "text/plain": [
       "{'whiskers': [<matplotlib.lines.Line2D at 0x7fd6543800d0>,\n",
       "  <matplotlib.lines.Line2D at 0x7fd654380510>],\n",
       " 'caps': [<matplotlib.lines.Line2D at 0x7fd654380950>,\n",
       "  <matplotlib.lines.Line2D at 0x7fd654380d90>],\n",
       " 'boxes': [<matplotlib.lines.Line2D at 0x7fd6543f5c50>],\n",
       " 'medians': [<matplotlib.lines.Line2D at 0x7fd65438b210>],\n",
       " 'fliers': [],\n",
       " 'means': []}"
      ]
     },
     "execution_count": 31,
     "metadata": {},
     "output_type": "execute_result"
    }
   ],
   "source": [
    "plt.boxplot(x,vert=False,showfliers=False)"
   ]
  },
  {
   "cell_type": "markdown",
   "id": "1704716d-2447-49f6-8691-30cbc6f2a7d9",
   "metadata": {},
   "source": [
    "## 4. Watermark"
   ]
  },
  {
   "cell_type": "code",
   "execution_count": null,
   "id": "3057c1cc-e196-4e73-a963-27901c4e7422",
   "metadata": {
    "collapsed": true,
    "jupyter": {
     "outputs_hidden": true
    }
   },
   "outputs": [],
   "source": []
  },
  {
   "cell_type": "code",
   "execution_count": 32,
   "id": "6385e38a-a6fe-4452-b277-15ecd2bf5ed4",
   "metadata": {
    "collapsed": true,
    "jupyter": {
     "outputs_hidden": true
    },
    "tags": []
   },
   "outputs": [
    {
     "data": {
      "text/plain": [
       "Text(1, 4, 'Matplotlib')"
      ]
     },
     "execution_count": 32,
     "metadata": {},
     "output_type": "execute_result"
    }
   ],
   "source": [
    "x = [1,2,3,4]\n",
    "y = [2,4,6,8]\n",
    "\n",
    "plt.plot(x,y)\n",
    "plt.text(1,4,'Matplotlib', fontsize=20,alpha=0.2,color='blue') # 1,4 is the starting position"
   ]
  },
  {
   "cell_type": "markdown",
   "id": "65000a03-e35b-419e-ad22-222f4d6982c7",
   "metadata": {},
   "source": [
    "## 4. Example"
   ]
  },
  {
   "cell_type": "code",
   "execution_count": 33,
   "id": "edec3a78-af59-481c-927b-374ff78da3f1",
   "metadata": {
    "collapsed": true,
    "jupyter": {
     "outputs_hidden": true
    },
    "tags": []
   },
   "outputs": [
    {
     "data": {
      "text/html": [
       "<div>\n",
       "<style scoped>\n",
       "    .dataframe tbody tr th:only-of-type {\n",
       "        vertical-align: middle;\n",
       "    }\n",
       "\n",
       "    .dataframe tbody tr th {\n",
       "        vertical-align: top;\n",
       "    }\n",
       "\n",
       "    .dataframe thead th {\n",
       "        text-align: right;\n",
       "    }\n",
       "</style>\n",
       "<table border=\"1\" class=\"dataframe\">\n",
       "  <thead>\n",
       "    <tr style=\"text-align: right;\">\n",
       "      <th></th>\n",
       "      <th>#Time</th>\n",
       "      <th>Time_usec</th>\n",
       "      <th>ProducerName</th>\n",
       "      <th>component_id</th>\n",
       "      <th>job_id</th>\n",
       "      <th>app_id</th>\n",
       "      <th>MemTotal</th>\n",
       "      <th>MemFree</th>\n",
       "      <th>MemAvailable</th>\n",
       "      <th>Buffers</th>\n",
       "      <th>...</th>\n",
       "      <th>CmaTotal</th>\n",
       "      <th>CmaFree</th>\n",
       "      <th>HugePages_Total</th>\n",
       "      <th>HugePages_Free</th>\n",
       "      <th>HugePages_Rsvd</th>\n",
       "      <th>HugePages_Surp</th>\n",
       "      <th>Hugepagesize</th>\n",
       "      <th>DirectMap4k</th>\n",
       "      <th>DirectMap2M</th>\n",
       "      <th>DirectMap1G</th>\n",
       "    </tr>\n",
       "  </thead>\n",
       "  <tbody>\n",
       "    <tr>\n",
       "      <th>0</th>\n",
       "      <td>1.641964e+09</td>\n",
       "      <td>55500</td>\n",
       "      <td>0</td>\n",
       "      <td>0</td>\n",
       "      <td>0</td>\n",
       "      <td>0</td>\n",
       "      <td>97387748</td>\n",
       "      <td>79544608</td>\n",
       "      <td>86132372</td>\n",
       "      <td>152196</td>\n",
       "      <td>...</td>\n",
       "      <td>0</td>\n",
       "      <td>0</td>\n",
       "      <td>0</td>\n",
       "      <td>0</td>\n",
       "      <td>0</td>\n",
       "      <td>0</td>\n",
       "      <td>2048</td>\n",
       "      <td>439668</td>\n",
       "      <td>10711040</td>\n",
       "      <td>90177536</td>\n",
       "    </tr>\n",
       "    <tr>\n",
       "      <th>1</th>\n",
       "      <td>1.641964e+09</td>\n",
       "      <td>57820</td>\n",
       "      <td>1</td>\n",
       "      <td>0</td>\n",
       "      <td>0</td>\n",
       "      <td>0</td>\n",
       "      <td>97385144</td>\n",
       "      <td>62884956</td>\n",
       "      <td>93174040</td>\n",
       "      <td>3720</td>\n",
       "      <td>...</td>\n",
       "      <td>0</td>\n",
       "      <td>0</td>\n",
       "      <td>0</td>\n",
       "      <td>0</td>\n",
       "      <td>0</td>\n",
       "      <td>0</td>\n",
       "      <td>2048</td>\n",
       "      <td>539016</td>\n",
       "      <td>9564160</td>\n",
       "      <td>91226112</td>\n",
       "    </tr>\n",
       "    <tr>\n",
       "      <th>2</th>\n",
       "      <td>1.641964e+09</td>\n",
       "      <td>57543</td>\n",
       "      <td>2</td>\n",
       "      <td>0</td>\n",
       "      <td>0</td>\n",
       "      <td>0</td>\n",
       "      <td>97385124</td>\n",
       "      <td>51056152</td>\n",
       "      <td>93191264</td>\n",
       "      <td>3436</td>\n",
       "      <td>...</td>\n",
       "      <td>0</td>\n",
       "      <td>0</td>\n",
       "      <td>0</td>\n",
       "      <td>0</td>\n",
       "      <td>0</td>\n",
       "      <td>0</td>\n",
       "      <td>2048</td>\n",
       "      <td>522612</td>\n",
       "      <td>8531968</td>\n",
       "      <td>92274688</td>\n",
       "    </tr>\n",
       "    <tr>\n",
       "      <th>3</th>\n",
       "      <td>1.641964e+09</td>\n",
       "      <td>51794</td>\n",
       "      <td>3</td>\n",
       "      <td>0</td>\n",
       "      <td>0</td>\n",
       "      <td>0</td>\n",
       "      <td>3878020</td>\n",
       "      <td>3200976</td>\n",
       "      <td>3407316</td>\n",
       "      <td>2088</td>\n",
       "      <td>...</td>\n",
       "      <td>0</td>\n",
       "      <td>0</td>\n",
       "      <td>0</td>\n",
       "      <td>0</td>\n",
       "      <td>0</td>\n",
       "      <td>0</td>\n",
       "      <td>2048</td>\n",
       "      <td>106340</td>\n",
       "      <td>3039232</td>\n",
       "      <td>3145728</td>\n",
       "    </tr>\n",
       "    <tr>\n",
       "      <th>4</th>\n",
       "      <td>1.641964e+09</td>\n",
       "      <td>51654</td>\n",
       "      <td>4</td>\n",
       "      <td>0</td>\n",
       "      <td>0</td>\n",
       "      <td>0</td>\n",
       "      <td>1813712</td>\n",
       "      <td>97932</td>\n",
       "      <td>1047516</td>\n",
       "      <td>2068</td>\n",
       "      <td>...</td>\n",
       "      <td>0</td>\n",
       "      <td>0</td>\n",
       "      <td>0</td>\n",
       "      <td>0</td>\n",
       "      <td>0</td>\n",
       "      <td>0</td>\n",
       "      <td>2048</td>\n",
       "      <td>79716</td>\n",
       "      <td>2017280</td>\n",
       "      <td>0</td>\n",
       "    </tr>\n",
       "  </tbody>\n",
       "</table>\n",
       "<p>5 rows × 53 columns</p>\n",
       "</div>"
      ],
      "text/plain": [
       "          #Time  Time_usec  ProducerName  component_id  job_id  app_id  \\\n",
       "0  1.641964e+09      55500             0             0       0       0   \n",
       "1  1.641964e+09      57820             1             0       0       0   \n",
       "2  1.641964e+09      57543             2             0       0       0   \n",
       "3  1.641964e+09      51794             3             0       0       0   \n",
       "4  1.641964e+09      51654             4             0       0       0   \n",
       "\n",
       "   MemTotal   MemFree  MemAvailable  Buffers  ...  CmaTotal  CmaFree  \\\n",
       "0  97387748  79544608      86132372   152196  ...         0        0   \n",
       "1  97385144  62884956      93174040     3720  ...         0        0   \n",
       "2  97385124  51056152      93191264     3436  ...         0        0   \n",
       "3   3878020   3200976       3407316     2088  ...         0        0   \n",
       "4   1813712     97932       1047516     2068  ...         0        0   \n",
       "\n",
       "   HugePages_Total  HugePages_Free  HugePages_Rsvd  HugePages_Surp  \\\n",
       "0                0               0               0               0   \n",
       "1                0               0               0               0   \n",
       "2                0               0               0               0   \n",
       "3                0               0               0               0   \n",
       "4                0               0               0               0   \n",
       "\n",
       "   Hugepagesize  DirectMap4k  DirectMap2M  DirectMap1G  \n",
       "0          2048       439668     10711040     90177536  \n",
       "1          2048       539016      9564160     91226112  \n",
       "2          2048       522612      8531968     92274688  \n",
       "3          2048       106340      3039232      3145728  \n",
       "4          2048        79716      2017280            0  \n",
       "\n",
       "[5 rows x 53 columns]"
      ]
     },
     "execution_count": 33,
     "metadata": {},
     "output_type": "execute_result"
    }
   ],
   "source": [
    "import pandas as pd\n",
    "data = pd.read_csv(\"../data/meminfo.csv\")\n",
    "data.head()"
   ]
  },
  {
   "cell_type": "code",
   "execution_count": 34,
   "id": "69156d75-c958-4b62-8351-1e5b6f96224b",
   "metadata": {
    "collapsed": true,
    "jupyter": {
     "outputs_hidden": true
    },
    "tags": []
   },
   "outputs": [
    {
     "data": {
      "image/png": "[encoded data removed]",
      "text/plain": [
       "<Figure size 432x288 with 1 Axes>"
      ]
     },
     "metadata": {
      "needs_background": "light"
     },
     "output_type": "display_data"
    },
    {
     "data": {
      "image/png": "[encoded data removed]",
      "text/plain": [
       "<Figure size 432x288 with 2 Axes>"
      ]
     },
     "metadata": {
      "needs_background": "light"
     },
     "output_type": "display_data"
    },
    {
     "data": {
      "image/png": "[encoded data removed]",
      "text/plain": [
       "<Figure size 432x288 with 2 Axes>"
      ]
     },
     "metadata": {
      "needs_background": "light"
     },
     "output_type": "display_data"
    },
    {
     "data": {
      "image/png": "[encoded data removed]",
      "text/plain": [
       "<Figure size 432x288 with 2 Axes>"
      ]
     },
     "metadata": {
      "needs_background": "light"
     },
     "output_type": "display_data"
    },
    {
     "data": {
      "image/png": "[encoded data removed]",
      "text/plain": [
       "<Figure size 432x288 with 1 Axes>"
      ]
     },
     "metadata": {
      "needs_background": "light"
     },
     "output_type": "display_data"
    },
    {
     "data": {
      "image/png": "[encoded data removed]",
      "text/plain": [
       "<Figure size 576x576 with 5 Axes>"
      ]
     },
     "metadata": {
      "needs_background": "light"
     },
     "output_type": "display_data"
    },
    {
     "data": {
      "image/png": "[encoded data removed]",
      "text/plain": [
       "<Figure size 432x288 with 1 Axes>"
      ]
     },
     "metadata": {
      "needs_background": "light"
     },
     "output_type": "display_data"
    },
    {
     "data": {
      "image/png": "[encoded data removed]",
      "text/plain": [
       "<Figure size 432x288 with 1 Axes>"
      ]
     },
     "metadata": {
      "needs_background": "light"
     },
     "output_type": "display_data"
    },
    {
     "data": {
      "image/png": "[encoded data removed]",
      "text/plain": [
       "<Figure size 432x288 with 1 Axes>"
      ]
     },
     "metadata": {
      "needs_background": "light"
     },
     "output_type": "display_data"
    },
    {
     "data": {
      "image/png": "[encoded data removed]",
      "text/plain": [
       "<Figure size 432x288 with 1 Axes>"
      ]
     },
     "metadata": {
      "needs_background": "light"
     },
     "output_type": "display_data"
    },
    {
     "data": {
      "image/png": "[encoded data removed]",
      "text/plain": [
       "<Figure size 432x288 with 1 Axes>"
      ]
     },
     "metadata": {
      "needs_background": "light"
     },
     "output_type": "display_data"
    },
    {
     "data": {
      "image/png": "[encoded data removed]",
      "text/plain": [
       "<Figure size 432x288 with 1 Axes>"
      ]
     },
     "metadata": {
      "needs_background": "light"
     },
     "output_type": "display_data"
    }
   ],
   "source": [
    "data.groupby('ProducerName').plot(kind='line',x='#Time',y='MemFree')\n",
    "plt.xlabel('X label',fontsize =15, c ='red')\n",
    "plt.ylabel('Y label',fontsize =15, c ='Blue')\n",
    "plt.show()"
   ]
  },
  {
   "cell_type": "code",
   "execution_count": 35,
   "id": "1f629934-fa46-488a-8014-5ad9ddfd1de1",
   "metadata": {
    "collapsed": true,
    "jupyter": {
     "outputs_hidden": true
    },
    "tags": []
   },
   "outputs": [],
   "source": [
    "import pandas as pd\n",
    "data = pd.read_csv(\"../data/StudentsPerformance.csv\")"
   ]
  },
  {
   "cell_type": "code",
   "execution_count": 36,
   "id": "0c7589be-a39f-46c0-9b67-8fff7d5a9101",
   "metadata": {
    "collapsed": true,
    "jupyter": {
     "outputs_hidden": true
    },
    "tags": []
   },
   "outputs": [
    {
     "data": {
      "text/html": [
       "<div>\n",
       "<style scoped>\n",
       "    .dataframe tbody tr th:only-of-type {\n",
       "        vertical-align: middle;\n",
       "    }\n",
       "\n",
       "    .dataframe tbody tr th {\n",
       "        vertical-align: top;\n",
       "    }\n",
       "\n",
       "    .dataframe thead th {\n",
       "        text-align: right;\n",
       "    }\n",
       "</style>\n",
       "<table border=\"1\" class=\"dataframe\">\n",
       "  <thead>\n",
       "    <tr style=\"text-align: right;\">\n",
       "      <th></th>\n",
       "      <th>gender</th>\n",
       "      <th>race/ethnicity</th>\n",
       "      <th>parental level of education</th>\n",
       "      <th>lunch</th>\n",
       "      <th>test preparation course</th>\n",
       "      <th>math score</th>\n",
       "      <th>reading score</th>\n",
       "      <th>writing score</th>\n",
       "    </tr>\n",
       "  </thead>\n",
       "  <tbody>\n",
       "    <tr>\n",
       "      <th>0</th>\n",
       "      <td>female</td>\n",
       "      <td>group B</td>\n",
       "      <td>bachelor's degree</td>\n",
       "      <td>standard</td>\n",
       "      <td>none</td>\n",
       "      <td>72</td>\n",
       "      <td>72</td>\n",
       "      <td>74</td>\n",
       "    </tr>\n",
       "    <tr>\n",
       "      <th>1</th>\n",
       "      <td>female</td>\n",
       "      <td>group C</td>\n",
       "      <td>some college</td>\n",
       "      <td>standard</td>\n",
       "      <td>completed</td>\n",
       "      <td>69</td>\n",
       "      <td>90</td>\n",
       "      <td>88</td>\n",
       "    </tr>\n",
       "    <tr>\n",
       "      <th>2</th>\n",
       "      <td>female</td>\n",
       "      <td>group B</td>\n",
       "      <td>master's degree</td>\n",
       "      <td>standard</td>\n",
       "      <td>none</td>\n",
       "      <td>90</td>\n",
       "      <td>95</td>\n",
       "      <td>93</td>\n",
       "    </tr>\n",
       "    <tr>\n",
       "      <th>3</th>\n",
       "      <td>male</td>\n",
       "      <td>group A</td>\n",
       "      <td>associate's degree</td>\n",
       "      <td>free/reduced</td>\n",
       "      <td>none</td>\n",
       "      <td>47</td>\n",
       "      <td>57</td>\n",
       "      <td>44</td>\n",
       "    </tr>\n",
       "    <tr>\n",
       "      <th>4</th>\n",
       "      <td>male</td>\n",
       "      <td>group C</td>\n",
       "      <td>some college</td>\n",
       "      <td>standard</td>\n",
       "      <td>none</td>\n",
       "      <td>76</td>\n",
       "      <td>78</td>\n",
       "      <td>75</td>\n",
       "    </tr>\n",
       "  </tbody>\n",
       "</table>\n",
       "</div>"
      ],
      "text/plain": [
       "   gender race/ethnicity parental level of education         lunch  \\\n",
       "0  female        group B           bachelor's degree      standard   \n",
       "1  female        group C                some college      standard   \n",
       "2  female        group B             master's degree      standard   \n",
       "3    male        group A          associate's degree  free/reduced   \n",
       "4    male        group C                some college      standard   \n",
       "\n",
       "  test preparation course  math score  reading score  writing score  \n",
       "0                    none          72             72             74  \n",
       "1               completed          69             90             88  \n",
       "2                    none          90             95             93  \n",
       "3                    none          47             57             44  \n",
       "4                    none          76             78             75  "
      ]
     },
     "execution_count": 36,
     "metadata": {},
     "output_type": "execute_result"
    }
   ],
   "source": [
    "data.head()"
   ]
  },
  {
   "cell_type": "code",
   "execution_count": 37,
   "id": "4e26e4f5-5175-4e4b-b66a-26db5af5147b",
   "metadata": {
    "collapsed": true,
    "jupyter": {
     "outputs_hidden": true
    },
    "tags": []
   },
   "outputs": [
    {
     "data": {
      "text/plain": [
       "(1000, 8)"
      ]
     },
     "execution_count": 37,
     "metadata": {},
     "output_type": "execute_result"
    }
   ],
   "source": [
    "data.shape"
   ]
  },
  {
   "cell_type": "code",
   "execution_count": 38,
   "id": "c965165d-d8b6-467c-904a-0efd640393fe",
   "metadata": {
    "collapsed": true,
    "jupyter": {
     "outputs_hidden": true
    },
    "tags": []
   },
   "outputs": [
    {
     "data": {
      "text/plain": [
       "Text(0.5, 0, 'Writing Score')"
      ]
     },
     "execution_count": 38,
     "metadata": {},
     "output_type": "execute_result"
    }
   ],
   "source": [
    "gender = data[\"gender\"]\n",
    "ethnicity = data[\"race/ethnicity\"]\n",
    "math = data[\"math score\"]\n",
    "parent_education = data[\"parental level of education\"]\n",
    "lunch = data[\"lunch\"]\n",
    "test = data[\"test preparation course\"]\n",
    "reading = data[\"reading score\"]\n",
    "writing = data[\"writing score\"]\n",
    "\n",
    "\n",
    "fig = plt.figure(figsize=(20,20))\n",
    "\n",
    "ax_1 = fig.add_subplot(331)\n",
    "ax_2 = fig.add_subplot(333)\n",
    "ax_3 = fig.add_subplot(335)\n",
    "\n",
    "\n",
    "\n",
    "ax_1.hist(math,edgecolor='white')\n",
    "ax_1.set_ylabel(\"No. of students\")\n",
    "ax_1.set_xlabel(\"Math Score\")\n",
    "\n",
    "ax_2.hist(reading)\n",
    "ax_2.set_ylabel(\"Number of students\")\n",
    "ax_2.set_xlabel(\"Reading Score\")\n",
    "\n",
    "ax_3.hist(writing)\n",
    "ax_3.set_ylabel(\"Number of students\")\n",
    "ax_3.set_xlabel(\"Writing Score\")"
   ]
  },
  {
   "cell_type": "code",
   "execution_count": 39,
   "id": "9876591f-32f8-4245-8842-22765362b39e",
   "metadata": {
    "collapsed": true,
    "jupyter": {
     "outputs_hidden": true
    },
    "tags": []
   },
   "outputs": [],
   "source": [
    "# Create a histogram plot to visualize the distribution of gender and race/ethnicity"
   ]
  }
 ],
 "metadata": {
  "kernelspec": {
   "display_name": "Python 3 (ipykernel)",
   "language": "python",
   "name": "python3"
  },
  "language_info": {
   "codemirror_mode": {
    "name": "ipython",
    "version": 3
   },
   "file_extension": ".py",
   "mimetype": "text/x-python",
   "name": "python",
   "nbconvert_exporter": "python",
   "pygments_lexer": "ipython3",
   "version": "3.7.12"
  }
 },
 "nbformat": 4,
 "nbformat_minor": 5
}
