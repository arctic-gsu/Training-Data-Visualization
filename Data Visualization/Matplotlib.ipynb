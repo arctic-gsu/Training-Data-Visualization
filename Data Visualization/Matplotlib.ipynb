{
 "cells": [
  {
   "cell_type": "markdown",
   "id": "b798b189-9fda-4c1a-8cb6-d299afa9da23",
   "metadata": {},
   "source": [
    "# Matplotlib"
   ]
  },
  {
   "cell_type": "markdown",
   "id": "e8f374aa-450e-4e12-8d71-04202a116c75",
   "metadata": {},
   "source": [
    "Matplotlib is the most common library for visualizing data\n",
    "\n",
    "Advantage\n",
    "* Easy to see the property of the data\n",
    "* Can plot anything\n",
    "\n",
    "Disadvantage\n",
    "* It may be complex to plot non-basic plots or adjust the plots to look nice."
   ]
  },
  {
   "cell_type": "markdown",
   "id": "03c8fcb1-35cb-4f94-9317-e5a4cd492668",
   "metadata": {},
   "source": [
    "## Introduction\n",
    "* Python 2D plotting library. 3D plotting can be plotted by importing the mplot3d library\n",
    "* Includes multiple modules - matplotlib.pyplot, pylab, Object level APIs(Matplotlib APIs)\n",
    "* Hierarchy : Figure-Axes-Axis-Ticks\n",
    "\n",
    "\n",
    "* Installing matplotlib\n",
    "    * pip install matplotlib"
   ]
  },
  {
   "cell_type": "code",
   "execution_count": 1,
   "id": "b591cbb1-4b55-4556-b933-a49977dd0bca",
   "metadata": {
    "collapsed": true,
    "jupyter": {
     "outputs_hidden": true
    }
   },
   "outputs": [],
   "source": [
    "import matplotlib\n",
    "import matplotlib.pyplot as plt"
   ]
  },
  {
   "cell_type": "code",
   "execution_count": 2,
   "id": "04eefdca-9767-48e2-ab6c-b3496b1aa9cf",
   "metadata": {
    "collapsed": true,
    "jupyter": {
     "outputs_hidden": true
    }
   },
   "outputs": [
    {
     "data": {
      "text/plain": [
       "True"
      ]
     },
     "execution_count": 2,
     "metadata": {},
     "output_type": "execute_result"
    }
   ],
   "source": [
    "matplotlib.is_interactive()"
   ]
  },
  {
   "cell_type": "code",
   "execution_count": 3,
   "id": "c0b93e95-1b4e-4dfa-8661-6685d1bd4d8a",
   "metadata": {
    "collapsed": true,
    "jupyter": {
     "outputs_hidden": true
    }
   },
   "outputs": [
    {
     "data": {
      "text/plain": [
       "False"
      ]
     },
     "execution_count": 3,
     "metadata": {},
     "output_type": "execute_result"
    }
   ],
   "source": [
    "#Right now  matplotlib is interactive. To make it non interactive use the command below\n",
    "\n",
    "matplotlib.interactive(False)\n",
    "matplotlib.is_interactive()"
   ]
  },
  {
   "cell_type": "markdown",
   "id": "a809d31f-a4a8-4680-88d0-fbd7e1bc26db",
   "metadata": {},
   "source": [
    "## 1. Plot\n",
    "Let's plot a list of values as x and y axis. a is taken as x-axis and b is taken as y-axis"
   ]
  },
  {
   "cell_type": "code",
   "execution_count": 4,
   "id": "d3771804-5f47-46e2-8285-5f840314292c",
   "metadata": {
    "collapsed": true,
    "jupyter": {
     "outputs_hidden": true
    }
   },
   "outputs": [
    {
     "name": "stdout",
     "output_type": "stream",
     "text": [
      "<class 'list'>\n",
      "<class 'list'>\n"
     ]
    }
   ],
   "source": [
    "a = [1,2,3,4]\n",
    "print(type(a))\n",
    "b = [2,4,6,8]\n",
    "print(type(b))"
   ]
  },
  {
   "cell_type": "code",
   "execution_count": 5,
   "id": "755349e2-4eeb-4c5d-a7fa-621a88b4b19c",
   "metadata": {
    "collapsed": true,
    "jupyter": {
     "outputs_hidden": true
    }
   },
   "outputs": [
    {
     "data": {
      "text/plain": [
       "[<matplotlib.lines.Line2D at 0x7fd46c835cd0>]"
      ]
     },
     "execution_count": 5,
     "metadata": {},
     "output_type": "execute_result"
    }
   ],
   "source": [
    "plt.plot(a,b)"
   ]
  },
  {
   "cell_type": "code",
   "execution_count": 6,
   "id": "d65f5405-b901-4470-9bd7-d5637a2b4ebb",
   "metadata": {
    "collapsed": true,
    "jupyter": {
     "outputs_hidden": true
    }
   },
   "outputs": [
    {
     "data": {
      "text/plain": [
       "[<matplotlib.lines.Line2D at 0x7fd46d25f650>]"
      ]
     },
     "execution_count": 6,
     "metadata": {},
     "output_type": "execute_result"
    }
   ],
   "source": [
    "# Passing only one value to the plot takes it as y value and index as x value\n",
    "plt.plot(a)"
   ]
  },
  {
   "cell_type": "markdown",
   "id": "3a14bd64-c9da-43de-9e39-363ed098831b",
   "metadata": {},
   "source": [
    "### 1.1 Changing the color of line."
   ]
  },
  {
   "cell_type": "code",
   "execution_count": 7,
   "id": "f2b55a41-e043-4445-b00f-d65724133466",
   "metadata": {
    "collapsed": true,
    "jupyter": {
     "outputs_hidden": true
    }
   },
   "outputs": [
    {
     "data": {
      "text/plain": [
       "[<matplotlib.lines.Line2D at 0x7fd46a7cff10>]"
      ]
     },
     "execution_count": 7,
     "metadata": {},
     "output_type": "execute_result"
    }
   ],
   "source": [
    "plt.plot(a,b,c='red')"
   ]
  },
  {
   "cell_type": "markdown",
   "id": "49a8b863-a5c3-49d3-9571-0caaadb30f67",
   "metadata": {},
   "source": [
    "### 1.2 Adding labels on x and y column"
   ]
  },
  {
   "cell_type": "code",
   "execution_count": 8,
   "id": "577fbf33-e450-4359-a0f5-ee96bf70f8d3",
   "metadata": {
    "collapsed": true,
    "jupyter": {
     "outputs_hidden": true
    }
   },
   "outputs": [
    {
     "data": {
      "text/plain": [
       "Text(0, 0.5, 'Y label')"
      ]
     },
     "execution_count": 8,
     "metadata": {},
     "output_type": "execute_result"
    }
   ],
   "source": [
    "plt.plot(a,b,c='blue')\n",
    "plt.xlabel('X label',fontsize =15, c ='red')\n",
    "plt.ylabel('Y label',fontsize =15, c ='Blue')"
   ]
  },
  {
   "cell_type": "markdown",
   "id": "8475850c-3cf2-4620-8fca-39b2b1d6e596",
   "metadata": {},
   "source": [
    "### 1.3 Ticks"
   ]
  },
  {
   "cell_type": "code",
   "execution_count": 9,
   "id": "462dcd81-3a15-4569-9ef3-816ddd1f8f77",
   "metadata": {
    "collapsed": true,
    "jupyter": {
     "outputs_hidden": true
    }
   },
   "outputs": [],
   "source": [
    "plt.plot(a,b,c='blue')\n",
    "plt.xlabel('X label',fontsize =15, c ='red')\n",
    "plt.ylabel('Y label',fontsize =15, c ='Blue')\n",
    "plt.tick_params(axis='x',color='red',labelsize='large',labelcolor='blue')\n",
    "plt.tick_params(axis='y',color='red',labelsize='large',labelcolor='red')"
   ]
  },
  {
   "cell_type": "markdown",
   "id": "d992e799-9a15-453e-943f-b85a527a874d",
   "metadata": {},
   "source": [
    "### 1.4 Labelling the graph"
   ]
  },
  {
   "cell_type": "code",
   "execution_count": 10,
   "id": "a3a29277-3458-4dfc-80fc-03df48dd09d5",
   "metadata": {
    "collapsed": true,
    "jupyter": {
     "outputs_hidden": true
    }
   },
   "outputs": [],
   "source": [
    "plt.plot(a,b,c='blue',label='Line 1')\n",
    "plt.legend()\n",
    "plt.xlabel('X label',fontsize =15, c ='red')\n",
    "plt.ylabel('Y label',fontsize =15, c ='Blue')\n",
    "plt.tick_params(axis='x',color='red',labelsize='large',labelcolor='blue')\n",
    "plt.tick_params(axis='y',color='red',labelsize='large',labelcolor='red')"
   ]
  },
  {
   "cell_type": "markdown",
   "id": "409b5857-d833-47f8-bdc0-c630d39472dc",
   "metadata": {},
   "source": [
    "### 1.5 Adding Title"
   ]
  },
  {
   "cell_type": "code",
   "execution_count": 11,
   "id": "c5aa820d-3794-40cc-8c06-7b07a917ae29",
   "metadata": {
    "collapsed": true,
    "jupyter": {
     "outputs_hidden": true
    }
   },
   "outputs": [],
   "source": [
    "plt.title(\"This is our first Graph\", {'fontsize':20,'color':'green'})\n",
    "plt.plot(a,b,c='blue',label='Line')\n",
    "plt.legend()\n",
    "plt.xlabel('X label',fontsize =15, c ='red')\n",
    "plt.ylabel('Y label',fontsize =15, c ='Blue')\n",
    "plt.tick_params(axis='x',color='red',labelsize='large',labelcolor='blue')\n",
    "plt.tick_params(axis='y',color='red',labelsize='large',labelcolor='red')"
   ]
  },
  {
   "cell_type": "markdown",
   "id": "8ddf8913-8a47-4805-9794-476dcb4e70f3",
   "metadata": {},
   "source": [
    "### 1.6 Limiting x and y axis"
   ]
  },
  {
   "cell_type": "code",
   "execution_count": 12,
   "id": "1d6f86c1-2bf4-488f-b639-ceaf4881c7cc",
   "metadata": {
    "collapsed": true,
    "jupyter": {
     "outputs_hidden": true
    }
   },
   "outputs": [
    {
     "data": {
      "text/plain": [
       "(2.0, 4.0)"
      ]
     },
     "execution_count": 12,
     "metadata": {},
     "output_type": "execute_result"
    }
   ],
   "source": [
    "# Limiting the x and y axis allows to start the x and y label to start and end at the given limits.\n",
    "# Here, we can see the x limit starts at 1 and ends at 3 and y limit starts at 2 and ends at 4\n",
    "\n",
    "plt.plot(a,b,c='blue',label='Line')\n",
    "plt.xlim(1,3)\n",
    "plt.ylim(2,4)"
   ]
  },
  {
   "cell_type": "markdown",
   "id": "4ec0974e-df43-43d7-9653-8ea854828247",
   "metadata": {},
   "source": [
    "We can take the mirror of the image using the xlim and ylim function"
   ]
  },
  {
   "cell_type": "code",
   "execution_count": 13,
   "id": "a2a96fec-a753-4a7a-be28-615de4797284",
   "metadata": {
    "collapsed": true,
    "jupyter": {
     "outputs_hidden": true
    }
   },
   "outputs": [
    {
     "data": {
      "text/plain": [
       "(4.0, 2.0)"
      ]
     },
     "execution_count": 13,
     "metadata": {},
     "output_type": "execute_result"
    }
   ],
   "source": [
    "plt.plot(a,b,c='blue',label='Line')\n",
    "plt.xlim(3,1)\n",
    "plt.ylim(4,2)"
   ]
  },
  {
   "cell_type": "markdown",
   "id": "b3e206c4-0c95-4190-a082-d213034223bf",
   "metadata": {},
   "source": [
    "### 1.7 Adding multiple graphs"
   ]
  },
  {
   "cell_type": "code",
   "execution_count": 14,
   "id": "a5ed1bc4-9894-4666-bed6-da6d3a3d7be7",
   "metadata": {
    "collapsed": true,
    "jupyter": {
     "outputs_hidden": true
    }
   },
   "outputs": [
    {
     "data": {
      "text/plain": [
       "<matplotlib.legend.Legend at 0x7fd46cadc990>"
      ]
     },
     "execution_count": 14,
     "metadata": {},
     "output_type": "execute_result"
    }
   ],
   "source": [
    "import numpy as np \n",
    "x =[2,4,6,8]\n",
    "y = np.sqrt(x)\n",
    "plt.plot(x,y,c='blue',label='Line 1')\n",
    "plt.plot(a,b,c='red',label='Line 2')\n",
    "plt.legend()"
   ]
  },
  {
   "cell_type": "markdown",
   "id": "1bb9faab-9d09-4c08-809c-3383f48ec898",
   "metadata": {},
   "source": [
    "### 1.8 Styling the graph Lines"
   ]
  },
  {
   "cell_type": "markdown",
   "id": "9c2d25df-58d0-4268-837e-e84725847c23",
   "metadata": {},
   "source": [
    "#### Changing the structure of lines"
   ]
  },
  {
   "cell_type": "code",
   "execution_count": 15,
   "id": "fabc889b-7ccb-4444-829f-1046b6e0b57c",
   "metadata": {
    "collapsed": true,
    "jupyter": {
     "outputs_hidden": true
    }
   },
   "outputs": [
    {
     "data": {
      "text/plain": [
       "<matplotlib.legend.Legend at 0x7fd46caffa50>"
      ]
     },
     "execution_count": 15,
     "metadata": {},
     "output_type": "execute_result"
    }
   ],
   "source": [
    "x =[2,4,6,8]\n",
    "y = np.sqrt(x)\n",
    "plt.plot(x,y,c='blue',label='Line 1', linestyle=\":\")\n",
    "plt.plot(a,b,c='red',label='Line 2',linestyle=\"--\",linewidth=3)\n",
    "plt.legend()"
   ]
  },
  {
   "cell_type": "markdown",
   "id": "8ec8f4a8-41fe-4637-9345-5ed3adff5663",
   "metadata": {},
   "source": [
    "#### Adding markers to the line\n",
    "\n",
    "Markers help to pinpoint the points of the graph"
   ]
  },
  {
   "cell_type": "code",
   "execution_count": 16,
   "id": "9ed89124-4f7b-4262-9f2d-fe4e1e4419f6",
   "metadata": {
    "collapsed": true,
    "jupyter": {
     "outputs_hidden": true
    }
   },
   "outputs": [
    {
     "data": {
      "text/plain": [
       "<matplotlib.legend.Legend at 0x7fd46a7c0fd0>"
      ]
     },
     "execution_count": 16,
     "metadata": {},
     "output_type": "execute_result"
    }
   ],
   "source": [
    "x =[2,4,6,8]\n",
    "y = np.sqrt(x)\n",
    "plt.plot(x,y,c='blue',label='Line 1', linestyle=\":\", marker='o')\n",
    "plt.plot(a,b,c='red',label='Line 2',linestyle=\"--\",linewidth=5, marker='d', markersize=10)\n",
    "plt.legend()"
   ]
  },
  {
   "cell_type": "markdown",
   "id": "971bf61a-35f5-4978-a80a-7df91c5a73f2",
   "metadata": {},
   "source": [
    "## 2. Figure\n",
    "\n",
    "Figure is a area where plots are drawn"
   ]
  },
  {
   "cell_type": "markdown",
   "id": "a595d4d4-c996-4597-9a35-344792431e4f",
   "metadata": {},
   "source": [
    "### 2.1 Adding axes to figure"
   ]
  },
  {
   "cell_type": "code",
   "execution_count": 17,
   "id": "1041344f-67a5-4741-ad0b-cbd9b585e285",
   "metadata": {
    "collapsed": true,
    "jupyter": {
     "outputs_hidden": true
    }
   },
   "outputs": [],
   "source": [
    "\n",
    "fig = plt.figure()\n",
    "ax_1 = fig.add_axes([0,0,1,1]) # left axis, bottom axis, width of  axis, height of axis of axes 1\n",
    "ax_2 = fig.add_axes([1.5,0,1,1])# left axis, bottom axis, width of  axis, height of axis of axes 2"
   ]
  },
  {
   "cell_type": "markdown",
   "id": "7604e2e4-9ea7-4bfa-9171-03871e5d95ec",
   "metadata": {},
   "source": [
    "#### 2.1.1 Plotting graph on axes"
   ]
  },
  {
   "cell_type": "code",
   "execution_count": 18,
   "id": "3fc0aaa0-f833-460b-8d7c-defe53f866f8",
   "metadata": {
    "collapsed": true,
    "jupyter": {
     "outputs_hidden": true
    }
   },
   "outputs": [
    {
     "data": {
      "text/plain": [
       "[<matplotlib.lines.Line2D at 0x7fd46a62f990>]"
      ]
     },
     "execution_count": 18,
     "metadata": {},
     "output_type": "execute_result"
    }
   ],
   "source": [
    "x =[2,4,6,8]\n",
    "y = np.sqrt(x)\n",
    "fig = plt.figure()\n",
    "ax_1 = fig.add_axes([0,0,1,1])\n",
    "ax_2 = fig.add_axes([1.5,0,1,1])\n",
    "ax_1.plot(x,y,c='blue',label='Line 1', linestyle=\":\", marker='o')\n",
    "ax_2.plot(a,b,c='red',label='Line 2',linestyle=\"--\",linewidth=5, marker='d', markersize=10)\n"
   ]
  },
  {
   "cell_type": "markdown",
   "id": "e786c8e6-5336-4f48-be2f-c0d071f66080",
   "metadata": {},
   "source": [
    "#### 2.1.2 Setting x and y label on axes"
   ]
  },
  {
   "cell_type": "code",
   "execution_count": 19,
   "id": "25b493f6-7dec-4d72-9b52-fd18239aefc4",
   "metadata": {
    "collapsed": true,
    "jupyter": {
     "outputs_hidden": true
    }
   },
   "outputs": [
    {
     "data": {
      "text/plain": [
       "Text(0, 0.5, 'Y label')"
      ]
     },
     "execution_count": 19,
     "metadata": {},
     "output_type": "execute_result"
    }
   ],
   "source": [
    "x =[2,4,6,8]\n",
    "y = np.sqrt(x)\n",
    "fig = plt.figure()\n",
    "ax_1 = fig.add_axes([0,0,1,1])\n",
    "ax_2 = fig.add_axes([1.5,0,1,1])\n",
    "ax_1.plot(x,y,c='blue',label='Line 1', linestyle=\":\", marker='o')\n",
    "ax_2.plot(a,b,c='red',label='Line 2',linestyle=\"--\",linewidth=5, marker='d', markersize=10)\n",
    "ax_1.set_xlabel('X label',fontsize =15, c ='red')\n",
    "ax_1.set_ylabel('Y label',fontsize =15, c ='Blue')\n",
    "ax_2.set_xlabel('X label',fontsize =15, c ='red')\n",
    "ax_2.set_ylabel('Y label',fontsize =15, c ='Blue')"
   ]
  },
  {
   "cell_type": "markdown",
   "id": "1bc88217-1ca8-4fd0-9ffd-1ba0271e357b",
   "metadata": {},
   "source": [
    "### 2.2 Adding subplot to figure"
   ]
  },
  {
   "cell_type": "code",
   "execution_count": 20,
   "id": "b76a4065-93f6-4a73-9313-32799e35297c",
   "metadata": {
    "collapsed": true,
    "jupyter": {
     "outputs_hidden": true
    }
   },
   "outputs": [],
   "source": [
    "fig = plt.figure()\n",
    "ax_1 = fig.add_subplot(321) # 3 by 2 grid at position1\n"
   ]
  },
  {
   "cell_type": "code",
   "execution_count": 21,
   "id": "f1c348d2-c4bc-4dc9-b849-c7c2d2f75b32",
   "metadata": {
    "collapsed": true,
    "jupyter": {
     "outputs_hidden": true
    }
   },
   "outputs": [],
   "source": [
    "fig = plt.figure(figsize=(8,8))\n",
    "\n",
    "ax_1 = fig.add_subplot(321)\n",
    "ax_2 = fig.add_subplot(322)\n",
    "ax_3 = fig.add_subplot(323)\n",
    "ax_4 = fig.add_subplot(324)\n",
    "ax_5 = fig.add_subplot(325)\n",
    "ax_6 = fig.add_subplot(326)\n"
   ]
  },
  {
   "cell_type": "code",
   "execution_count": 22,
   "id": "ce5f052c-a203-4b99-8a57-3cb260038d62",
   "metadata": {
    "collapsed": true,
    "jupyter": {
     "outputs_hidden": true
    }
   },
   "outputs": [
    {
     "data": {
      "image/png": "[encoded data removed]",
      "text/plain": [
       "<Figure size 576x576 with 6 Axes>"
      ]
     },
     "metadata": {},
     "output_type": "display_data"
    }
   ],
   "source": [
    "from IPython.display import display\n",
    "\n",
    "display(fig)"
   ]
  },
  {
   "cell_type": "code",
   "execution_count": 23,
   "id": "3b20417c-3019-4446-8c3a-e5c4f35672cf",
   "metadata": {
    "collapsed": true,
    "jupyter": {
     "outputs_hidden": true
    }
   },
   "outputs": [],
   "source": [
    "ax_1.remove()\n"
   ]
  },
  {
   "cell_type": "code",
   "execution_count": 24,
   "id": "0e8d2f2b-3d2b-492e-84db-6b619a3083cf",
   "metadata": {
    "collapsed": true,
    "jupyter": {
     "outputs_hidden": true
    }
   },
   "outputs": [
    {
     "data": {
      "image/png": "[encoded data removed]",
      "text/plain": [
       "<Figure size 576x576 with 5 Axes>"
      ]
     },
     "metadata": {},
     "output_type": "display_data"
    }
   ],
   "source": [
    "display(fig)"
   ]
  },
  {
   "cell_type": "code",
   "execution_count": 25,
   "id": "c5eddd13-e545-44a5-b846-efbeb89f8e48",
   "metadata": {
    "collapsed": true,
    "jupyter": {
     "outputs_hidden": true
    }
   },
   "outputs": [],
   "source": [
    "import numpy as np\n",
    "\n",
    "a = [1,2,3,4]\n",
    "b = [2,4,6,8]\n",
    "x =[2,4,6,8]\n",
    "y = np.sqrt(x)"
   ]
  },
  {
   "cell_type": "code",
   "execution_count": 26,
   "id": "3cdeb1fb-1d77-4e23-9724-3340a4fba2ff",
   "metadata": {
    "collapsed": true,
    "jupyter": {
     "outputs_hidden": true
    }
   },
   "outputs": [
    {
     "data": {
      "image/png": "[encoded data removed]",
      "text/plain": [
       "<Figure size 576x576 with 5 Axes>"
      ]
     },
     "metadata": {},
     "output_type": "display_data"
    }
   ],
   "source": [
    "ax_2.plot(a,b)\n",
    "\n",
    "display(fig)"
   ]
  },
  {
   "cell_type": "code",
   "execution_count": 27,
   "id": "b87094f7-6ed1-4461-a918-ad4037ff5e14",
   "metadata": {
    "collapsed": true,
    "jupyter": {
     "outputs_hidden": true
    }
   },
   "outputs": [
    {
     "data": {
      "image/png": "[encoded data removed]",
      "text/plain": [
       "<Figure size 576x576 with 5 Axes>"
      ]
     },
     "metadata": {},
     "output_type": "display_data"
    }
   ],
   "source": [
    "ax_3.plot(x,y)\n",
    "display(fig)"
   ]
  },
  {
   "cell_type": "markdown",
   "id": "a7b1d941-14a1-4bfb-a9f9-3649bc54c834",
   "metadata": {},
   "source": [
    "## 3. Box Plots"
   ]
  },
  {
   "cell_type": "code",
   "execution_count": 28,
   "id": "9d3cd57d-096c-4608-83d3-c0c73eb96e4c",
   "metadata": {
    "collapsed": true,
    "jupyter": {
     "outputs_hidden": true
    }
   },
   "outputs": [
    {
     "data": {
      "text/plain": [
       "array([ 0,  2,  3,  4,  4,  5,  6,  6,  7,  7, 12, 12, 12, 13, 13, 14, 15,\n",
       "       17, 18, 19])"
      ]
     },
     "execution_count": 28,
     "metadata": {},
     "output_type": "execute_result"
    }
   ],
   "source": [
    "import numpy as np\n",
    "import matplotlib.pyplot as plt\n",
    "\n",
    "x = np.random.randint(low =0, high =20, size=20)\n",
    "x.sort()\n",
    "x"
   ]
  },
  {
   "cell_type": "code",
   "execution_count": 29,
   "id": "5ad4feda-2a8e-4632-8c02-1e55b60624f1",
   "metadata": {
    "collapsed": true,
    "jupyter": {
     "outputs_hidden": true
    }
   },
   "outputs": [
    {
     "data": {
      "text/plain": [
       "{'whiskers': [<matplotlib.lines.Line2D at 0x7fd46a30f9d0>,\n",
       "  <matplotlib.lines.Line2D at 0x7fd46a325250>],\n",
       " 'caps': [<matplotlib.lines.Line2D at 0x7fd46a325690>,\n",
       "  <matplotlib.lines.Line2D at 0x7fd46a325ad0>],\n",
       " 'boxes': [<matplotlib.lines.Line2D at 0x7fd46a30f610>],\n",
       " 'medians': [<matplotlib.lines.Line2D at 0x7fd46a325ed0>],\n",
       " 'fliers': [<matplotlib.lines.Line2D at 0x7fd46a32f350>],\n",
       " 'means': []}"
      ]
     },
     "execution_count": 29,
     "metadata": {},
     "output_type": "execute_result"
    }
   ],
   "source": [
    "plt.boxplot(x)"
   ]
  },
  {
   "cell_type": "code",
   "execution_count": 30,
   "id": "096b4a79-afc6-4bcb-883a-2d679e0f9d06",
   "metadata": {
    "collapsed": true,
    "jupyter": {
     "outputs_hidden": true
    }
   },
   "outputs": [
    {
     "data": {
      "text/plain": [
       "{'whiskers': [<matplotlib.lines.Line2D at 0x7fd46a5ad690>,\n",
       "  <matplotlib.lines.Line2D at 0x7fd46a159cd0>],\n",
       " 'caps': [<matplotlib.lines.Line2D at 0x7fd46a17ff10>,\n",
       "  <matplotlib.lines.Line2D at 0x7fd46a33c2d0>],\n",
       " 'boxes': [<matplotlib.lines.Line2D at 0x7fd46a32fdd0>],\n",
       " 'medians': [<matplotlib.lines.Line2D at 0x7fd46a33c710>],\n",
       " 'fliers': [<matplotlib.lines.Line2D at 0x7fd46a33cb50>],\n",
       " 'means': []}"
      ]
     },
     "execution_count": 30,
     "metadata": {},
     "output_type": "execute_result"
    }
   ],
   "source": [
    "plt.boxplot(x,vert=False)"
   ]
  },
  {
   "cell_type": "code",
   "execution_count": 31,
   "id": "8dd53ac0-12b3-439f-a60e-2b12a6beb9ea",
   "metadata": {
    "collapsed": true,
    "jupyter": {
     "outputs_hidden": true
    }
   },
   "outputs": [
    {
     "data": {
      "text/plain": [
       "{'whiskers': [<matplotlib.lines.Line2D at 0x7fd46a2c7b50>,\n",
       "  <matplotlib.lines.Line2D at 0x7fd46a2c7f90>],\n",
       " 'caps': [<matplotlib.lines.Line2D at 0x7fd46a30fbd0>,\n",
       "  <matplotlib.lines.Line2D at 0x7fd46a2ce3d0>],\n",
       " 'boxes': [<matplotlib.lines.Line2D at 0x7fd46a2c76d0>],\n",
       " 'medians': [<matplotlib.lines.Line2D at 0x7fd46a2ce810>],\n",
       " 'fliers': [],\n",
       " 'means': []}"
      ]
     },
     "execution_count": 31,
     "metadata": {},
     "output_type": "execute_result"
    }
   ],
   "source": [
    "plt.boxplot(x,vert=False,showfliers=False)"
   ]
  },
  {
   "cell_type": "markdown",
   "id": "1704716d-2447-49f6-8691-30cbc6f2a7d9",
   "metadata": {},
   "source": [
    "## 4. Watermark"
   ]
  },
  {
   "cell_type": "code",
   "execution_count": null,
   "id": "3057c1cc-e196-4e73-a963-27901c4e7422",
   "metadata": {
    "collapsed": true,
    "jupyter": {
     "outputs_hidden": true
    }
   },
   "outputs": [],
   "source": []
  },
  {
   "cell_type": "code",
   "execution_count": 32,
   "id": "6385e38a-a6fe-4452-b277-15ecd2bf5ed4",
   "metadata": {
    "collapsed": true,
    "jupyter": {
     "outputs_hidden": true
    }
   },
   "outputs": [
    {
     "data": {
      "text/plain": [
       "Text(1, 4, 'Matplotlib')"
      ]
     },
     "execution_count": 32,
     "metadata": {},
     "output_type": "execute_result"
    }
   ],
   "source": [
    "x = [1,2,3,4]\n",
    "y = [2,4,6,8]\n",
    "\n",
    "plt.plot(x,y)\n",
    "plt.text(1,4,'Matplotlib', fontsize=20,alpha=0.2,color='blue') # 1,4 is the starting position"
   ]
  },
  {
   "cell_type": "markdown",
   "id": "65000a03-e35b-419e-ad22-222f4d6982c7",
   "metadata": {},
   "source": [
    "## 4. Example"
   ]
  },
  {
   "cell_type": "code",
   "execution_count": 33,
   "id": "1f629934-fa46-488a-8014-5ad9ddfd1de1",
   "metadata": {
    "collapsed": true,
    "jupyter": {
     "outputs_hidden": true
    }
   },
   "outputs": [],
   "source": [
    "import pandas as pd\n",
    "ga_data = pd.read_csv(\"../data/georgia-history.csv\")"
   ]
  },
  {
   "cell_type": "code",
   "execution_count": 34,
   "id": "0c7589be-a39f-46c0-9b67-8fff7d5a9101",
   "metadata": {
    "collapsed": true,
    "jupyter": {
     "outputs_hidden": true
    }
   },
   "outputs": [
    {
     "data": {
      "text/html": [
       "<div>\n",
       "<style scoped>\n",
       "    .dataframe tbody tr th:only-of-type {\n",
       "        vertical-align: middle;\n",
       "    }\n",
       "\n",
       "    .dataframe tbody tr th {\n",
       "        vertical-align: top;\n",
       "    }\n",
       "\n",
       "    .dataframe thead th {\n",
       "        text-align: right;\n",
       "    }\n",
       "</style>\n",
       "<table border=\"1\" class=\"dataframe\">\n",
       "  <thead>\n",
       "    <tr style=\"text-align: right;\">\n",
       "      <th></th>\n",
       "      <th>date</th>\n",
       "      <th>state</th>\n",
       "      <th>death</th>\n",
       "      <th>deathConfirmed</th>\n",
       "      <th>deathIncrease</th>\n",
       "      <th>deathProbable</th>\n",
       "      <th>hospitalized</th>\n",
       "      <th>hospitalizedCumulative</th>\n",
       "      <th>hospitalizedCurrently</th>\n",
       "      <th>hospitalizedIncrease</th>\n",
       "      <th>...</th>\n",
       "      <th>totalTestResults</th>\n",
       "      <th>totalTestResultsIncrease</th>\n",
       "      <th>totalTestsAntibody</th>\n",
       "      <th>totalTestsAntigen</th>\n",
       "      <th>totalTestsPeopleAntibody</th>\n",
       "      <th>totalTestsPeopleAntigen</th>\n",
       "      <th>totalTestsPeopleViral</th>\n",
       "      <th>totalTestsPeopleViralIncrease</th>\n",
       "      <th>totalTestsViral</th>\n",
       "      <th>totalTestsViralIncrease</th>\n",
       "    </tr>\n",
       "  </thead>\n",
       "  <tbody>\n",
       "    <tr>\n",
       "      <th>0</th>\n",
       "      <td>2021-03-07</td>\n",
       "      <td>GA</td>\n",
       "      <td>17906.0</td>\n",
       "      <td>15598.0</td>\n",
       "      <td>1</td>\n",
       "      <td>2308.0</td>\n",
       "      <td>56797.0</td>\n",
       "      <td>56797.0</td>\n",
       "      <td>2008.0</td>\n",
       "      <td>35</td>\n",
       "      <td>...</td>\n",
       "      <td>7359069</td>\n",
       "      <td>18827</td>\n",
       "      <td>482568.0</td>\n",
       "      <td>1484921.0</td>\n",
       "      <td>NaN</td>\n",
       "      <td>NaN</td>\n",
       "      <td>NaN</td>\n",
       "      <td>0</td>\n",
       "      <td>7359069</td>\n",
       "      <td>18827</td>\n",
       "    </tr>\n",
       "    <tr>\n",
       "      <th>1</th>\n",
       "      <td>2021-03-06</td>\n",
       "      <td>GA</td>\n",
       "      <td>17905.0</td>\n",
       "      <td>15597.0</td>\n",
       "      <td>90</td>\n",
       "      <td>2308.0</td>\n",
       "      <td>56762.0</td>\n",
       "      <td>56762.0</td>\n",
       "      <td>2071.0</td>\n",
       "      <td>135</td>\n",
       "      <td>...</td>\n",
       "      <td>7340242</td>\n",
       "      <td>24765</td>\n",
       "      <td>481545.0</td>\n",
       "      <td>1478232.0</td>\n",
       "      <td>NaN</td>\n",
       "      <td>NaN</td>\n",
       "      <td>NaN</td>\n",
       "      <td>0</td>\n",
       "      <td>7340242</td>\n",
       "      <td>24765</td>\n",
       "    </tr>\n",
       "    <tr>\n",
       "      <th>2</th>\n",
       "      <td>2021-03-05</td>\n",
       "      <td>GA</td>\n",
       "      <td>17815.0</td>\n",
       "      <td>15526.0</td>\n",
       "      <td>65</td>\n",
       "      <td>2289.0</td>\n",
       "      <td>56627.0</td>\n",
       "      <td>56627.0</td>\n",
       "      <td>2099.0</td>\n",
       "      <td>115</td>\n",
       "      <td>...</td>\n",
       "      <td>7315477</td>\n",
       "      <td>35861</td>\n",
       "      <td>480456.0</td>\n",
       "      <td>1463362.0</td>\n",
       "      <td>NaN</td>\n",
       "      <td>NaN</td>\n",
       "      <td>NaN</td>\n",
       "      <td>0</td>\n",
       "      <td>7315477</td>\n",
       "      <td>35861</td>\n",
       "    </tr>\n",
       "    <tr>\n",
       "      <th>3</th>\n",
       "      <td>2021-03-04</td>\n",
       "      <td>GA</td>\n",
       "      <td>17750.0</td>\n",
       "      <td>15462.0</td>\n",
       "      <td>125</td>\n",
       "      <td>2288.0</td>\n",
       "      <td>56512.0</td>\n",
       "      <td>56512.0</td>\n",
       "      <td>2191.0</td>\n",
       "      <td>143</td>\n",
       "      <td>...</td>\n",
       "      <td>7279616</td>\n",
       "      <td>28189</td>\n",
       "      <td>479300.0</td>\n",
       "      <td>1451169.0</td>\n",
       "      <td>NaN</td>\n",
       "      <td>NaN</td>\n",
       "      <td>NaN</td>\n",
       "      <td>0</td>\n",
       "      <td>7279616</td>\n",
       "      <td>28189</td>\n",
       "    </tr>\n",
       "    <tr>\n",
       "      <th>4</th>\n",
       "      <td>2021-03-03</td>\n",
       "      <td>GA</td>\n",
       "      <td>17625.0</td>\n",
       "      <td>15349.0</td>\n",
       "      <td>145</td>\n",
       "      <td>2276.0</td>\n",
       "      <td>56369.0</td>\n",
       "      <td>56369.0</td>\n",
       "      <td>2299.0</td>\n",
       "      <td>118</td>\n",
       "      <td>...</td>\n",
       "      <td>7251427</td>\n",
       "      <td>16983</td>\n",
       "      <td>478229.0</td>\n",
       "      <td>1437822.0</td>\n",
       "      <td>NaN</td>\n",
       "      <td>NaN</td>\n",
       "      <td>NaN</td>\n",
       "      <td>0</td>\n",
       "      <td>7251427</td>\n",
       "      <td>16983</td>\n",
       "    </tr>\n",
       "  </tbody>\n",
       "</table>\n",
       "<p>5 rows × 41 columns</p>\n",
       "</div>"
      ],
      "text/plain": [
       "         date state    death  deathConfirmed  deathIncrease  deathProbable  \\\n",
       "0  2021-03-07    GA  17906.0         15598.0              1         2308.0   \n",
       "1  2021-03-06    GA  17905.0         15597.0             90         2308.0   \n",
       "2  2021-03-05    GA  17815.0         15526.0             65         2289.0   \n",
       "3  2021-03-04    GA  17750.0         15462.0            125         2288.0   \n",
       "4  2021-03-03    GA  17625.0         15349.0            145         2276.0   \n",
       "\n",
       "   hospitalized  hospitalizedCumulative  hospitalizedCurrently  \\\n",
       "0       56797.0                 56797.0                 2008.0   \n",
       "1       56762.0                 56762.0                 2071.0   \n",
       "2       56627.0                 56627.0                 2099.0   \n",
       "3       56512.0                 56512.0                 2191.0   \n",
       "4       56369.0                 56369.0                 2299.0   \n",
       "\n",
       "   hospitalizedIncrease  ...  totalTestResults  totalTestResultsIncrease  \\\n",
       "0                    35  ...           7359069                     18827   \n",
       "1                   135  ...           7340242                     24765   \n",
       "2                   115  ...           7315477                     35861   \n",
       "3                   143  ...           7279616                     28189   \n",
       "4                   118  ...           7251427                     16983   \n",
       "\n",
       "   totalTestsAntibody  totalTestsAntigen  totalTestsPeopleAntibody  \\\n",
       "0            482568.0          1484921.0                       NaN   \n",
       "1            481545.0          1478232.0                       NaN   \n",
       "2            480456.0          1463362.0                       NaN   \n",
       "3            479300.0          1451169.0                       NaN   \n",
       "4            478229.0          1437822.0                       NaN   \n",
       "\n",
       "   totalTestsPeopleAntigen  totalTestsPeopleViral  \\\n",
       "0                      NaN                    NaN   \n",
       "1                      NaN                    NaN   \n",
       "2                      NaN                    NaN   \n",
       "3                      NaN                    NaN   \n",
       "4                      NaN                    NaN   \n",
       "\n",
       "   totalTestsPeopleViralIncrease  totalTestsViral  totalTestsViralIncrease  \n",
       "0                              0          7359069                    18827  \n",
       "1                              0          7340242                    24765  \n",
       "2                              0          7315477                    35861  \n",
       "3                              0          7279616                    28189  \n",
       "4                              0          7251427                    16983  \n",
       "\n",
       "[5 rows x 41 columns]"
      ]
     },
     "execution_count": 34,
     "metadata": {},
     "output_type": "execute_result"
    }
   ],
   "source": [
    "ga_data.head()"
   ]
  },
  {
   "cell_type": "code",
   "execution_count": 35,
   "id": "c965165d-d8b6-467c-904a-0efd640393fe",
   "metadata": {
    "collapsed": true,
    "jupyter": {
     "outputs_hidden": true
    },
    "tags": []
   },
   "outputs": [
    {
     "data": {
      "text/plain": [
       "<matplotlib.legend.Legend at 0x7fd46a32f650>"
      ]
     },
     "execution_count": 35,
     "metadata": {},
     "output_type": "execute_result"
    }
   ],
   "source": [
    "a = ga_data[\"date\"]\n",
    "b = ga_data[\"death\"]\n",
    "\n",
    "x = ga_data[\"date\"]\n",
    "y = ga_data[\"hospitalized\"]\n",
    "\n",
    "\n",
    "plt.plot(x,y,c='blue',label='Hospitalized', linestyle=\":\")\n",
    "plt.plot(a,b,c='red',label='Death',linestyle=\"--\")\n",
    "\n",
    "plt.tick_params(axis='y',color='red',labelsize='large',labelcolor='red')\n",
    "\n",
    "plt.legend()"
   ]
  }
 ],
 "metadata": {
  "kernelspec": {
   "display_name": "Python 3 (ipykernel)",
   "language": "python",
   "name": "python3"
  },
  "language_info": {
   "codemirror_mode": {
    "name": "ipython",
    "version": 3
   },
   "file_extension": ".py",
   "mimetype": "text/x-python",
   "name": "python",
   "nbconvert_exporter": "python",
   "pygments_lexer": "ipython3",
   "version": "3.7.12"
  }
 },
 "nbformat": 4,
 "nbformat_minor": 5
}
