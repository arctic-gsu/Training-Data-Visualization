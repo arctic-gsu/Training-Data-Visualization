{
 "cells": [
  {
   "cell_type": "markdown",
   "id": "467c7abc-923d-4ceb-bc13-a1ec53a460f7",
   "metadata": {},
   "source": [
    "# Altair\n",
    "\n",
    "Ideal for plots that require a lot of statistical transformation.\n",
    "\n",
    "Advantage\n",
    "* Simple visualization grammar\n",
    "* Easy to transform data\n",
    "* Easy to loink plots\n",
    "\n",
    "Disadvantage\n",
    "* Need custom styling to make the simple chart such as bar chart to make it look as styled as seaborn or Plotly\n",
    "* Does not recommend datasets with above 5000 samples\n",
    "* Recommends to aggregate data prior to visualization\n",
    "\n",
    "For more information : https://altair-viz.github.io/"
   ]
  },
  {
   "cell_type": "code",
   "execution_count": 1,
   "id": "deb2091a-ce53-486a-8c89-dd167021efcc",
   "metadata": {
    "collapsed": true,
    "jupyter": {
     "outputs_hidden": true
    }
   },
   "outputs": [
    {
     "name": "stdout",
     "output_type": "stream",
     "text": [
      "Requirement already satisfied: altair in /userapp/python-3.7.12-packages/JupyterLab/lib/python3.7/site-packages (4.2.0)\n",
      "Requirement already satisfied: jsonschema>=3.0 in /userapp/python-3.7.12-packages/JupyterLab/lib/python3.7/site-packages (from altair) (4.3.3)\n",
      "Requirement already satisfied: pandas>=0.18 in /userapp/python-3.7.12-packages/JupyterLab/lib/python3.7/site-packages (from altair) (1.3.5)\n",
      "Requirement already satisfied: toolz in /sysapps/Python-3.7.12/Debug_Build/lib/python3.7/site-packages (from altair) (0.11.2)\n",
      "Requirement already satisfied: jinja2 in /userapp/python-3.7.12-packages/JupyterLab/lib/python3.7/site-packages (from altair) (3.0.3)\n",
      "Requirement already satisfied: numpy in /sysapps/Python-3.7.12/Debug_Build/lib/python3.7/site-packages (from altair) (1.21.5)\n",
      "Requirement already satisfied: entrypoints in /userapp/python-3.7.12-packages/JupyterLab/lib/python3.7/site-packages (from altair) (0.3)\n",
      "Requirement already satisfied: pyrsistent!=0.17.0,!=0.17.1,!=0.17.2,>=0.14.0 in /userapp/python-3.7.12-packages/JupyterLab/lib/python3.7/site-packages (from jsonschema>=3.0->altair) (0.18.0)\n",
      "Requirement already satisfied: attrs>=17.4.0 in /userapp/python-3.7.12-packages/JupyterLab/lib/python3.7/site-packages (from jsonschema>=3.0->altair) (21.4.0)\n",
      "Requirement already satisfied: typing-extensions in /userapp/python-3.7.12-packages/JupyterLab/lib/python3.7/site-packages (from jsonschema>=3.0->altair) (4.0.1)\n",
      "Requirement already satisfied: importlib-resources>=1.4.0 in /userapp/python-3.7.12-packages/JupyterLab/lib/python3.7/site-packages (from jsonschema>=3.0->altair) (5.4.0)\n",
      "Requirement already satisfied: importlib-metadata in /userapp/python-3.7.12-packages/JupyterLab/lib/python3.7/site-packages (from jsonschema>=3.0->altair) (4.10.0)\n",
      "Requirement already satisfied: python-dateutil>=2.7.3 in /userapp/python-3.7.12-packages/JupyterLab/lib/python3.7/site-packages (from pandas>=0.18->altair) (2.8.2)\n",
      "Requirement already satisfied: pytz>=2017.3 in /userapp/python-3.7.12-packages/JupyterLab/lib/python3.7/site-packages (from pandas>=0.18->altair) (2021.3)\n",
      "Requirement already satisfied: MarkupSafe>=2.0 in /userapp/python-3.7.12-packages/JupyterLab/lib/python3.7/site-packages (from jinja2->altair) (2.0.1)\n",
      "Requirement already satisfied: zipp>=3.1.0 in /userapp/python-3.7.12-packages/JupyterLab/lib/python3.7/site-packages (from importlib-resources>=1.4.0->jsonschema>=3.0->altair) (3.7.0)\n",
      "Requirement already satisfied: six>=1.5 in /userapp/python-3.7.12-packages/JupyterLab/lib/python3.7/site-packages (from python-dateutil>=2.7.3->pandas>=0.18->altair) (1.16.0)\n",
      "\u001b[33mWARNING: You are using pip version 21.3.1; however, version 22.0.4 is available.\n",
      "You should consider upgrading via the '/userapp/python-3.7.12-packages/JupyterLab/bin/python3 -m pip install --upgrade pip' command.\u001b[0m\n",
      "Note: you may need to restart the kernel to use updated packages.\n"
     ]
    }
   ],
   "source": [
    "pip install altair"
   ]
  },
  {
   "cell_type": "markdown",
   "id": "a44579c5-9a01-4d6b-bbf6-fa2a0e3dc98a",
   "metadata": {},
   "source": [
    "\n",
    "Each top-level chart object (i.e. Chart, LayerChart, and VConcatChart, HConcatChart, RepeatChart, FacetChart) accepts a dataset as its first argument. The dataset can be specified in one of the following ways:\n",
    "\n",
    "as a Pandas DataFrame\n",
    "\n",
    "as a Data or related object (i.e. UrlData, InlineData, NamedData)\n",
    "\n",
    "as a url string pointing to a json or csv formatted text file\n",
    "\n",
    "as an object that supports the __geo_interface__ (eg. Geopandas GeoDataFrame, Shapely Geometries, GeoJSON Objects)"
   ]
  },
  {
   "cell_type": "code",
   "execution_count": 2,
   "id": "f09ce7cf-d561-4e4e-b8f6-55659dd514cf",
   "metadata": {
    "collapsed": true,
    "jupyter": {
     "outputs_hidden": true
    }
   },
   "outputs": [
    {
     "data": {
      "text/html": [
       "\n",
       "<div id=\"altair-viz-c79af56dcb044786bcabed8ae8f2da47\"></div>\n",
       "<script type=\"text/javascript\">\n",
       "  var VEGA_DEBUG = (typeof VEGA_DEBUG == \"undefined\") ? {} : VEGA_DEBUG;\n",
       "  (function(spec, embedOpt){\n",
       "    let outputDiv = document.currentScript.previousElementSibling;\n",
       "    if (outputDiv.id !== \"altair-viz-c79af56dcb044786bcabed8ae8f2da47\") {\n",
       "      outputDiv = document.getElementById(\"altair-viz-c79af56dcb044786bcabed8ae8f2da47\");\n",
       "    }\n",
       "    const paths = {\n",
       "      \"vega\": \"https://cdn.jsdelivr.net/npm//vega@5?noext\",\n",
       "      \"vega-lib\": \"https://cdn.jsdelivr.net/npm//vega-lib?noext\",\n",
       "      \"vega-lite\": \"https://cdn.jsdelivr.net/npm//vega-lite@4.17.0?noext\",\n",
       "      \"vega-embed\": \"https://cdn.jsdelivr.net/npm//vega-embed@6?noext\",\n",
       "    };\n",
       "\n",
       "    function maybeLoadScript(lib, version) {\n",
       "      var key = `${lib.replace(\"-\", \"\")}_version`;\n",
       "      return (VEGA_DEBUG[key] == version) ?\n",
       "        Promise.resolve(paths[lib]) :\n",
       "        new Promise(function(resolve, reject) {\n",
       "          var s = document.createElement('script');\n",
       "          document.getElementsByTagName(\"head\")[0].appendChild(s);\n",
       "          s.async = true;\n",
       "          s.onload = () => {\n",
       "            VEGA_DEBUG[key] = version;\n",
       "            return resolve(paths[lib]);\n",
       "          };\n",
       "          s.onerror = () => reject(`Error loading script: ${paths[lib]}`);\n",
       "          s.src = paths[lib];\n",
       "        });\n",
       "    }\n",
       "\n",
       "    function showError(err) {\n",
       "      outputDiv.innerHTML = `<div class=\"error\" style=\"color:red;\">${err}</div>`;\n",
       "      throw err;\n",
       "    }\n",
       "\n",
       "    function displayChart(vegaEmbed) {\n",
       "      vegaEmbed(outputDiv, spec, embedOpt)\n",
       "        .catch(err => showError(`Javascript Error: ${err.message}<br>This usually means there's a typo in your chart specification. See the javascript console for the full traceback.`));\n",
       "    }\n",
       "\n",
       "    if(typeof define === \"function\" && define.amd) {\n",
       "      requirejs.config({paths});\n",
       "      require([\"vega-embed\"], displayChart, err => showError(`Error loading script: ${err.message}`));\n",
       "    } else {\n",
       "      maybeLoadScript(\"vega\", \"5\")\n",
       "        .then(() => maybeLoadScript(\"vega-lite\", \"4.17.0\"))\n",
       "        .then(() => maybeLoadScript(\"vega-embed\", \"6\"))\n",
       "        .catch(showError)\n",
       "        .then(() => displayChart(vegaEmbed));\n",
       "    }\n",
       "  })({\"config\": {\"view\": {\"continuousWidth\": 400, \"continuousHeight\": 300}}, \"data\": {\"name\": \"data-ff62a9564cd60261d7ab58d9f85618ad\"}, \"mark\": \"point\", \"encoding\": {\"x\": {\"field\": \"a\", \"type\": \"quantitative\"}, \"y\": {\"field\": \"b\", \"type\": \"quantitative\"}}, \"$schema\": \"https://vega.github.io/schema/vega-lite/v4.17.0.json\", \"datasets\": {\"data-ff62a9564cd60261d7ab58d9f85618ad\": [{\"a\": 1, \"b\": 2}, {\"a\": 2, \"b\": 4}, {\"a\": 3, \"b\": 6}, {\"a\": 4, \"b\": 8}]}}, {\"mode\": \"vega-lite\"});\n",
       "</script>"
      ],
      "text/plain": [
       "alt.Chart(...)"
      ]
     },
     "execution_count": 2,
     "metadata": {},
     "output_type": "execute_result"
    }
   ],
   "source": [
    "import altair as alt\n",
    "import pandas as pd\n",
    "\n",
    "a = [1,2,3,4]\n",
    "b = [2,4,6,8]\n",
    "\n",
    "data = pd.DataFrame({'a': a,'b': b})\n",
    "data.head()\n",
    "alt.Chart(data).mark_point().encode(x='a',y='b')"
   ]
  },
  {
   "cell_type": "code",
   "execution_count": 3,
   "id": "203bf5b9-fa9c-462d-8c44-b5b8bbbcc0d4",
   "metadata": {
    "collapsed": true,
    "jupyter": {
     "outputs_hidden": true
    }
   },
   "outputs": [
    {
     "data": {
      "text/html": [
       "\n",
       "<div id=\"altair-viz-02b23a2d2018402eb2b289886509209b\"></div>\n",
       "<script type=\"text/javascript\">\n",
       "  var VEGA_DEBUG = (typeof VEGA_DEBUG == \"undefined\") ? {} : VEGA_DEBUG;\n",
       "  (function(spec, embedOpt){\n",
       "    let outputDiv = document.currentScript.previousElementSibling;\n",
       "    if (outputDiv.id !== \"altair-viz-02b23a2d2018402eb2b289886509209b\") {\n",
       "      outputDiv = document.getElementById(\"altair-viz-02b23a2d2018402eb2b289886509209b\");\n",
       "    }\n",
       "    const paths = {\n",
       "      \"vega\": \"https://cdn.jsdelivr.net/npm//vega@5?noext\",\n",
       "      \"vega-lib\": \"https://cdn.jsdelivr.net/npm//vega-lib?noext\",\n",
       "      \"vega-lite\": \"https://cdn.jsdelivr.net/npm//vega-lite@4.17.0?noext\",\n",
       "      \"vega-embed\": \"https://cdn.jsdelivr.net/npm//vega-embed@6?noext\",\n",
       "    };\n",
       "\n",
       "    function maybeLoadScript(lib, version) {\n",
       "      var key = `${lib.replace(\"-\", \"\")}_version`;\n",
       "      return (VEGA_DEBUG[key] == version) ?\n",
       "        Promise.resolve(paths[lib]) :\n",
       "        new Promise(function(resolve, reject) {\n",
       "          var s = document.createElement('script');\n",
       "          document.getElementsByTagName(\"head\")[0].appendChild(s);\n",
       "          s.async = true;\n",
       "          s.onload = () => {\n",
       "            VEGA_DEBUG[key] = version;\n",
       "            return resolve(paths[lib]);\n",
       "          };\n",
       "          s.onerror = () => reject(`Error loading script: ${paths[lib]}`);\n",
       "          s.src = paths[lib];\n",
       "        });\n",
       "    }\n",
       "\n",
       "    function showError(err) {\n",
       "      outputDiv.innerHTML = `<div class=\"error\" style=\"color:red;\">${err}</div>`;\n",
       "      throw err;\n",
       "    }\n",
       "\n",
       "    function displayChart(vegaEmbed) {\n",
       "      vegaEmbed(outputDiv, spec, embedOpt)\n",
       "        .catch(err => showError(`Javascript Error: ${err.message}<br>This usually means there's a typo in your chart specification. See the javascript console for the full traceback.`));\n",
       "    }\n",
       "\n",
       "    if(typeof define === \"function\" && define.amd) {\n",
       "      requirejs.config({paths});\n",
       "      require([\"vega-embed\"], displayChart, err => showError(`Error loading script: ${err.message}`));\n",
       "    } else {\n",
       "      maybeLoadScript(\"vega\", \"5\")\n",
       "        .then(() => maybeLoadScript(\"vega-lite\", \"4.17.0\"))\n",
       "        .then(() => maybeLoadScript(\"vega-embed\", \"6\"))\n",
       "        .catch(showError)\n",
       "        .then(() => displayChart(vegaEmbed));\n",
       "    }\n",
       "  })({\"config\": {\"view\": {\"continuousWidth\": 400, \"continuousHeight\": 300}}, \"data\": {\"name\": \"data-ff62a9564cd60261d7ab58d9f85618ad\"}, \"mark\": \"line\", \"encoding\": {\"x\": {\"field\": \"a\", \"type\": \"quantitative\"}, \"y\": {\"field\": \"b\", \"type\": \"quantitative\"}}, \"$schema\": \"https://vega.github.io/schema/vega-lite/v4.17.0.json\", \"datasets\": {\"data-ff62a9564cd60261d7ab58d9f85618ad\": [{\"a\": 1, \"b\": 2}, {\"a\": 2, \"b\": 4}, {\"a\": 3, \"b\": 6}, {\"a\": 4, \"b\": 8}]}}, {\"mode\": \"vega-lite\"});\n",
       "</script>"
      ],
      "text/plain": [
       "alt.Chart(...)"
      ]
     },
     "execution_count": 3,
     "metadata": {},
     "output_type": "execute_result"
    }
   ],
   "source": [
    "alt.Chart(data).mark_line().encode(x='a',y='b')"
   ]
  },
  {
   "cell_type": "code",
   "execution_count": 4,
   "id": "e80616e9-27ff-4abc-88e1-33a4485bc64f",
   "metadata": {
    "collapsed": true,
    "jupyter": {
     "outputs_hidden": true
    },
    "tags": []
   },
   "outputs": [
    {
     "data": {
      "text/html": [
       "\n",
       "<div id=\"altair-viz-93dc3a358cb84714a902a20530b90d8c\"></div>\n",
       "<script type=\"text/javascript\">\n",
       "  var VEGA_DEBUG = (typeof VEGA_DEBUG == \"undefined\") ? {} : VEGA_DEBUG;\n",
       "  (function(spec, embedOpt){\n",
       "    let outputDiv = document.currentScript.previousElementSibling;\n",
       "    if (outputDiv.id !== \"altair-viz-93dc3a358cb84714a902a20530b90d8c\") {\n",
       "      outputDiv = document.getElementById(\"altair-viz-93dc3a358cb84714a902a20530b90d8c\");\n",
       "    }\n",
       "    const paths = {\n",
       "      \"vega\": \"https://cdn.jsdelivr.net/npm//vega@5?noext\",\n",
       "      \"vega-lib\": \"https://cdn.jsdelivr.net/npm//vega-lib?noext\",\n",
       "      \"vega-lite\": \"https://cdn.jsdelivr.net/npm//vega-lite@4.17.0?noext\",\n",
       "      \"vega-embed\": \"https://cdn.jsdelivr.net/npm//vega-embed@6?noext\",\n",
       "    };\n",
       "\n",
       "    function maybeLoadScript(lib, version) {\n",
       "      var key = `${lib.replace(\"-\", \"\")}_version`;\n",
       "      return (VEGA_DEBUG[key] == version) ?\n",
       "        Promise.resolve(paths[lib]) :\n",
       "        new Promise(function(resolve, reject) {\n",
       "          var s = document.createElement('script');\n",
       "          document.getElementsByTagName(\"head\")[0].appendChild(s);\n",
       "          s.async = true;\n",
       "          s.onload = () => {\n",
       "            VEGA_DEBUG[key] = version;\n",
       "            return resolve(paths[lib]);\n",
       "          };\n",
       "          s.onerror = () => reject(`Error loading script: ${paths[lib]}`);\n",
       "          s.src = paths[lib];\n",
       "        });\n",
       "    }\n",
       "\n",
       "    function showError(err) {\n",
       "      outputDiv.innerHTML = `<div class=\"error\" style=\"color:red;\">${err}</div>`;\n",
       "      throw err;\n",
       "    }\n",
       "\n",
       "    function displayChart(vegaEmbed) {\n",
       "      vegaEmbed(outputDiv, spec, embedOpt)\n",
       "        .catch(err => showError(`Javascript Error: ${err.message}<br>This usually means there's a typo in your chart specification. See the javascript console for the full traceback.`));\n",
       "    }\n",
       "\n",
       "    if(typeof define === \"function\" && define.amd) {\n",
       "      requirejs.config({paths});\n",
       "      require([\"vega-embed\"], displayChart, err => showError(`Error loading script: ${err.message}`));\n",
       "    } else {\n",
       "      maybeLoadScript(\"vega\", \"5\")\n",
       "        .then(() => maybeLoadScript(\"vega-lite\", \"4.17.0\"))\n",
       "        .then(() => maybeLoadScript(\"vega-embed\", \"6\"))\n",
       "        .catch(showError)\n",
       "        .then(() => displayChart(vegaEmbed));\n",
       "    }\n",
       "  })({\"config\": {\"view\": {\"continuousWidth\": 400, \"continuousHeight\": 300}}, \"data\": {\"name\": \"data-ff62a9564cd60261d7ab58d9f85618ad\"}, \"mark\": \"bar\", \"encoding\": {\"x\": {\"field\": \"a\", \"type\": \"quantitative\"}, \"y\": {\"field\": \"b\", \"type\": \"quantitative\"}}, \"$schema\": \"https://vega.github.io/schema/vega-lite/v4.17.0.json\", \"datasets\": {\"data-ff62a9564cd60261d7ab58d9f85618ad\": [{\"a\": 1, \"b\": 2}, {\"a\": 2, \"b\": 4}, {\"a\": 3, \"b\": 6}, {\"a\": 4, \"b\": 8}]}}, {\"mode\": \"vega-lite\"});\n",
       "</script>"
      ],
      "text/plain": [
       "alt.Chart(...)"
      ]
     },
     "execution_count": 4,
     "metadata": {},
     "output_type": "execute_result"
    }
   ],
   "source": [
    "alt.Chart(data).mark_bar().encode(x='a',y='b')"
   ]
  }
 ],
 "metadata": {
  "kernelspec": {
   "display_name": "Python 3 (ipykernel)",
   "language": "python",
   "name": "python3"
  },
  "language_info": {
   "codemirror_mode": {
    "name": "ipython",
    "version": 3
   },
   "file_extension": ".py",
   "mimetype": "text/x-python",
   "name": "python",
   "nbconvert_exporter": "python",
   "pygments_lexer": "ipython3",
   "version": "3.7.12"
  }
 },
 "nbformat": 4,
 "nbformat_minor": 5
}
