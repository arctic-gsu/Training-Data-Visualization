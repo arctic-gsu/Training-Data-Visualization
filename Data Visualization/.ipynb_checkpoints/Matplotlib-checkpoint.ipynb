{
 "cells": [
  {
   "cell_type": "markdown",
   "id": "b798b189-9fda-4c1a-8cb6-d299afa9da23",
   "metadata": {},
   "source": [
    "# Matplotlib"
   ]
  },
  {
   "cell_type": "markdown",
   "id": "e8f374aa-450e-4e12-8d71-04202a116c75",
   "metadata": {},
   "source": [
    "Matplotlib is the most common library for visualizing data\n",
    "\n",
    "Advantage\n",
    "* Easy to see the property of the data\n",
    "* Can plot anything\n",
    "\n",
    "Disadvantage\n",
    "* It may be complex to plot non-basic plots or adjust the plots to look nice."
   ]
  },
  {
   "cell_type": "markdown",
   "id": "03c8fcb1-35cb-4f94-9317-e5a4cd492668",
   "metadata": {},
   "source": [
    "## Introduction\n",
    "* Python 2D plotting library. 3D plotting can be plotted by importing the mplot3d library\n",
    "* Includes multiple modules - matplotlib.pyplot, pylab, Object level APIs(Matplotlib APIs)\n",
    "* Hierarchy : Figure-Axes-Axis-Ticks"
   ]
  }
 ],
 "metadata": {
  "kernelspec": {
   "display_name": "Python 3",
   "language": "python",
   "name": "python3"
  },
  "language_info": {
   "codemirror_mode": {
    "name": "ipython",
    "version": 3
   },
   "file_extension": ".py",
   "mimetype": "text/x-python",
   "name": "python",
   "nbconvert_exporter": "python",
   "pygments_lexer": "ipython3",
   "version": "3.7.12"
  }
 },
 "nbformat": 4,
 "nbformat_minor": 5
}
