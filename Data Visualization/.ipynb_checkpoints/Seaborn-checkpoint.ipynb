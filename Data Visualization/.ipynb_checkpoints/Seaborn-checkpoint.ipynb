{
 "cells": [
  {
   "cell_type": "markdown",
   "id": "bff6bfdc-cbcb-4502-b06a-5e366965e7a4",
   "metadata": {},
   "source": [
    "# Seaborn\n",
    "\n",
    "* Library based on Matplotlib\n",
    "* Wrapper of matplotlib\n",
    "\n",
    "Advantages\n",
    "* Less code\n",
    "* Make common-used plots prettier\n",
    "\n",
    "Disadvantage\n",
    "* Does not have as wide a collection as matplotlib"
   ]
  },
  {
   "cell_type": "code",
   "execution_count": null,
   "id": "4c90a3b5-5c86-4b5c-a200-d439fb2eeb3c",
   "metadata": {},
   "outputs": [],
   "source": []
  }
 ],
 "metadata": {
  "kernelspec": {
   "display_name": "Python 3",
   "language": "python",
   "name": "python3"
  },
  "language_info": {
   "codemirror_mode": {
    "name": "ipython",
    "version": 3
   },
   "file_extension": ".py",
   "mimetype": "text/x-python",
   "name": "python",
   "nbconvert_exporter": "python",
   "pygments_lexer": "ipython3",
   "version": "3.8.8"
  }
 },
 "nbformat": 4,
 "nbformat_minor": 5
}
