{
 "cells": [
  {
   "cell_type": "markdown",
   "id": "12fc8b61-981d-4c1b-8c92-28ddd36d5a9e",
   "metadata": {},
   "source": [
    "# Introduction to Visualization Libraries\n",
    "\n",
    "* Low level vs high level libraries\n",
    "* Available visualization liibraries\n",
    "\n",
    "Reference: <br/>\n",
    "https://towardsdatascience.com/top-6-python-libraries-for-visualization-which-one-to-use-fe43381cd658\n"
   ]
  },
  {
   "cell_type": "markdown",
   "id": "ead4f514-edf9-40bf-bafd-560d6d044df3",
   "metadata": {},
   "source": [
    "Low level libraries\n",
    "* Matplotlib\n",
    "\n",
    "High level libraries\n",
    "* Altair\n",
    "* Plotly\n",
    "* Seaborn"
   ]
  }
 ],
 "metadata": {
  "kernelspec": {
   "display_name": "Python 3",
   "language": "python",
   "name": "python3"
  },
  "language_info": {
   "codemirror_mode": {
    "name": "ipython",
    "version": 3
   },
   "file_extension": ".py",
   "mimetype": "text/x-python",
   "name": "python",
   "nbconvert_exporter": "python",
   "pygments_lexer": "ipython3",
   "version": "3.8.8"
  }
 },
 "nbformat": 4,
 "nbformat_minor": 5
}
