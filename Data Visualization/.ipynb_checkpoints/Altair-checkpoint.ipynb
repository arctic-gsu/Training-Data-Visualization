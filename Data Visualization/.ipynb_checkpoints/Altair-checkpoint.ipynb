{
 "cells": [
  {
   "cell_type": "markdown",
   "id": "467c7abc-923d-4ceb-bc13-a1ec53a460f7",
   "metadata": {},
   "source": [
    "# Altair\n",
    "\n",
    "Ideal for plots that require a lot of statistical transformation.\n",
    "\n",
    "Advantage\n",
    "* Simple visualization grammar\n",
    "* Easy to transform data\n",
    "* Easy to loink plots\n",
    "\n",
    "Disadvantage\n",
    "* Need custom styling to make the simple chart such as bar chart to make it look as styled as seaborn or Plotly\n",
    "* Does not recommend datasets with above 5000 samples\n",
    "* Recommends to aggregate data prior to visualization"
   ]
  },
  {
   "cell_type": "code",
   "execution_count": null,
   "id": "4bd42a7b-d0c5-4972-975c-e4f27a71c002",
   "metadata": {},
   "outputs": [],
   "source": []
  }
 ],
 "metadata": {
  "kernelspec": {
   "display_name": "Python 3",
   "language": "python",
   "name": "python3"
  },
  "language_info": {
   "codemirror_mode": {
    "name": "ipython",
    "version": 3
   },
   "file_extension": ".py",
   "mimetype": "text/x-python",
   "name": "python",
   "nbconvert_exporter": "python",
   "pygments_lexer": "ipython3",
   "version": "3.8.8"
  }
 },
 "nbformat": 4,
 "nbformat_minor": 5
}
