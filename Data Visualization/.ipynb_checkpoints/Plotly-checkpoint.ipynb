{
 "cells": [
  {
   "cell_type": "markdown",
   "id": "4fd6e448-7094-4886-ae96-2fe8a90ea129",
   "metadata": {},
   "source": [
    "# Plotly\n",
    "\n",
    "* Graphing library\n",
    "* Easy to create interactive, publication-quality graphs\n",
    "* Create similar charts as Matplotlib and seaborn \n",
    "\n",
    "Advantage\n",
    "* Easy to create interactive plots\n",
    "* Complex plots made easy"
   ]
  },
  {
   "cell_type": "code",
   "execution_count": null,
   "id": "fdb90896-db1b-4ac3-b86e-59377a04cfbc",
   "metadata": {},
   "outputs": [],
   "source": []
  }
 ],
 "metadata": {
  "kernelspec": {
   "display_name": "Python 3",
   "language": "python",
   "name": "python3"
  },
  "language_info": {
   "codemirror_mode": {
    "name": "ipython",
    "version": 3
   },
   "file_extension": ".py",
   "mimetype": "text/x-python",
   "name": "python",
   "nbconvert_exporter": "python",
   "pygments_lexer": "ipython3",
   "version": "3.8.8"
  }
 },
 "nbformat": 4,
 "nbformat_minor": 5
}
